{
 "cells": [
  {
   "cell_type": "markdown",
   "metadata": {},
   "source": [
    "# M1L3 NumPy Part 2 Data Challenge:  Summary Statistics & Outliers \n",
    "\n",
    "## Scenario\n",
    "\n",
    "You are a data analyst working for a basketball team. You have been given a dataset containing player stats, and your job is to analyze the data. Each row in the dataset represents a player, and the columns represent different stats:\n",
    "- **Points Scored**\n",
    "- **Rebounds**\n",
    "- **Assists**\n",
    "\n",
    "You will:\n",
    "1. Calculate summary statistics (mean, median, standard deviation, etc.).\n",
    "2. Add new data to the existing dataset.\n",
    "3. Detect outliers using the IQR method."
   ]
  },
  {
   "cell_type": "markdown",
   "metadata": {},
   "source": [
    "### Step 1:  Import NumPy "
   ]
  },
  {
   "cell_type": "code",
   "execution_count": 1,
   "metadata": {},
   "outputs": [],
   "source": [
    "import numpy as np"
   ]
  },
  {
   "cell_type": "markdown",
   "metadata": {},
   "source": [
    "### Step 2:  Run the cell below for Player Stats \n",
    "\n",
    "Here is the dataset of player stats. Each row represents a player, and the columns represent points, rebounds, and assists."
   ]
  },
  {
   "cell_type": "code",
   "execution_count": 2,
   "metadata": {},
   "outputs": [
    {
     "name": "stdout",
     "output_type": "stream",
     "text": [
      "[[25 10  5]\n",
      " [18  7  8]\n",
      " [30 12  4]\n",
      " [22  9  6]\n",
      " [42  5 15]]\n"
     ]
    }
   ],
   "source": [
    "# Player stats array -- run without changing the data\n",
    "player_stats = np.array([\n",
    "    [25, 10, 5],\n",
    "    [18, 7, 8],\n",
    "    [30, 12, 4],\n",
    "    [22, 9, 6],\n",
    "    [42, 5, 15]\n",
    "])\n",
    "\n",
    "# Print the dataset\n",
    "print(player_stats)"
   ]
  },
  {
   "cell_type": "markdown",
   "metadata": {},
   "source": [
    "### Step 3: Calculate Summary Statistics\n",
    "\n",
    "Task:\n",
    "- Calculate the mean for each stat (points, rebounds, assists).\n",
    "- Calculate the median for each stat.\n",
    "- Calculate the standard deviation for each stat.\n",
    "\n",
    "*This is expanding on your last data challenge -- instead of calculating summary statistics for one column you will calculate it for all columns*\n",
    "\n",
    "**Hint:  You can call an axis=0 argument to calculate each statistic all at once.  For example:  np.mean(data, axis=0)**"
   ]
  },
  {
   "cell_type": "code",
   "execution_count": 5,
   "metadata": {},
   "outputs": [
    {
     "name": "stdout",
     "output_type": "stream",
     "text": [
      "Mean stats: 14.533333333333333\n",
      "Median stats: 10.0\n",
      "Standard deviation stats: 10.62617313784956\n"
     ]
    }
   ],
   "source": [
    "mean_stats = np.mean(player_stats)\n",
    "print(\"Mean stats:\", mean_stats)\n",
    "\n",
    "median_stats = np.median(player_stats)\n",
    "print(\"Median stats:\", median_stats)\n",
    "\n",
    "std_stats = np.std(player_stats)\n",
    "print(\"Standard deviation stats:\", std_stats)"
   ]
  },
  {
   "cell_type": "markdown",
   "metadata": {},
   "source": [
    "**What can you conclude from the result you got above?  What are some main takeaways?  Add a markdown cell below this one and type up an answer.**  "
   ]
  },
  {
   "cell_type": "markdown",
   "metadata": {},
   "source": [
    "### Step 4: Add New Data to the Dataset\n",
    "\n",
    "Task:\n",
    "A new player has joined the team. Add their stats to the existing dataset:\n",
    "\n",
    "- Points: 20\n",
    "- Rebounds: 8\n",
    "- Assists: 6\n"
   ]
  },
  {
   "cell_type": "code",
   "execution_count": 6,
   "metadata": {},
   "outputs": [
    {
     "name": "stdout",
     "output_type": "stream",
     "text": [
      "Updated player stats:\n",
      "[[25 10  5]\n",
      " [18  7  8]\n",
      " [30 12  4]\n",
      " [22  9  6]\n",
      " [42  5 15]\n",
      " [20  8  6]]\n"
     ]
    }
   ],
   "source": [
    "new_player = np.array([20,8,6])\n",
    "player_stats = np.vstack([player_stats, new_player])\n",
    "print(\"Updated player stats:\")\n",
    "print(player_stats)"
   ]
  },
  {
   "cell_type": "markdown",
   "metadata": {},
   "source": [
    "### Step 5: Detect Outliers Using the IQR Method\n",
    "\n",
    "Task:\n",
    "\n",
    "- Calculate the IQR for points scored.\n",
    "- Determine the lower bound and upper bound for outliers.\n",
    "- Identify any outliers in the points column **there may not be any outliers!**."
   ]
  },
  {
   "cell_type": "code",
   "execution_count": null,
   "metadata": {},
   "outputs": [
    {
     "name": "stdout",
     "output_type": "stream",
     "text": [
      "20.5\n",
      "28.75\n",
      "8.25\n",
      "Outliers in points: [42]\n"
     ]
    }
   ],
   "source": [
    "#formula for Q1\n",
    "\n",
    "Q1 = np.percentile(player_stats[:,0],25)\n",
    "print(Q1)\n",
    "#formula for Q3\n",
    "Q3 = np.percentile(player_stats[:,0],75)\n",
    "print(Q3)\n",
    "#this is the formula for IQR\n",
    "IQR = Q3 - Q1\n",
    "print(IQR)\n",
    "\n",
    "lower_bound = Q1 - 1.5 * IQR \n",
    "upper_bound = Q3 + 1.5 * IQR\n",
    "\n",
    "outliers = player_stats[:, 0][(player_stats[:, 0] < lower_bound) | (player_stats[:, 0] > upper_bound)]\n",
    "print(\"Outliers in points:\", outliers)"
   ]
  },
  {
   "cell_type": "markdown",
   "metadata": {},
   "source": [
    "## Above and Beyond (OPTIONAL): Detect Outliers Using Standard Deviation\n",
    "\n",
    "Task:\n",
    "1. Calculate the mean and standard deviation for points scored.\n",
    "2. Determine the lower bound and upper bound for outliers (3 standard deviations away from the mean).\n",
    "3. Identify any outliers in the points column **there may not be any outliers!**"
   ]
  },
  {
   "cell_type": "code",
   "execution_count": 18,
   "metadata": {},
   "outputs": [
    {
     "name": "stdout",
     "output_type": "stream",
     "text": [
      "26.166666666666668\n",
      "8.050189783822216\n",
      "Outliers in points (using standard deviation): [18 42]\n"
     ]
    }
   ],
   "source": [
    "mean_points = np.mean(player_stats[:,0])\n",
    "print(mean_points)\n",
    "std_points = np.std(player_stats[:,0])\n",
    "print(std_points)\n",
    "\n",
    "lower_bound_std = mean_points - 3 * std_points\n",
    "upper_bound_std = mean_points + 3 * std_points\n",
    "\n",
    "outliers_std = player_stats[:, 0][(player_stats[:, 0] < lower_bound_std) | (player_stats[:, 0] > upper_bound_std)]\n",
    "print(\"Outliers in points (using standard deviation):\", outliers_std)"
   ]
  }
 ],
 "metadata": {
  "kernelspec": {
   "display_name": "data-analysis-env",
   "language": "python",
   "name": "python3"
  },
  "language_info": {
   "codemirror_mode": {
    "name": "ipython",
    "version": 3
   },
   "file_extension": ".py",
   "mimetype": "text/x-python",
   "name": "python",
   "nbconvert_exporter": "python",
   "pygments_lexer": "ipython3",
   "version": "3.9.22"
  }
 },
 "nbformat": 4,
 "nbformat_minor": 2
}
