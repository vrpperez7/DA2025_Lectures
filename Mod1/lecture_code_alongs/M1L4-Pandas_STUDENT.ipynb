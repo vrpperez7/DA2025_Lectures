{
 "cells": [
  {
   "cell_type": "markdown",
   "metadata": {},
   "source": [
    "# M1L4 Pandas Code Walkthrough: Air Pollution Analysis\n",
    "\n",
    "Scenario: Analyze air pollution data\n",
    "\n",
    "Dataset: A CSV file containing air pollution metrics [DataSet](https://www.kaggle.com/datasets/sazidthe1/global-air-pollution-data)\n",
    "\n",
    "Tasks:\n",
    "- Load the dataset into a DataFrame.\n",
    "- Explore the data using attributes and methods.\n",
    "- Calculate summary statistics for air pollution metrics."
   ]
  },
  {
   "cell_type": "markdown",
   "metadata": {},
   "source": [
    "### Step 1: Import Pandas\n"
   ]
  },
  {
   "cell_type": "code",
   "execution_count": 2,
   "metadata": {},
   "outputs": [],
   "source": [
    "import pandas as pd"
   ]
  },
  {
   "cell_type": "markdown",
   "metadata": {},
   "source": [
    "### Step 2: Load the Air Pollution Dataset\n",
    "\n",
    "Load the dataset into a Pandas DataFrame. You will use the `pd.read_csv()` function.  Look at documentation to see what this function does and the arguments it takes in. "
   ]
  },
  {
   "cell_type": "code",
   "execution_count": null,
   "metadata": {},
   "outputs": [],
   "source": [
    "air_data = pd.read_csv(\"global_air_pollution_data.csv\")\n"
   ]
  },
  {
   "cell_type": "markdown",
   "metadata": {},
   "source": [
    "### Step 3: Explore the Data\n",
    "\n",
    "Task:\n",
    "- View the first 5 rows of the dataset.\n",
    "- Check the shape of the dataset.\n",
    "- Display the column names and data types."
   ]
  },
  {
   "cell_type": "code",
   "execution_count": 16,
   "metadata": {},
   "outputs": [
    {
     "name": "stdout",
     "output_type": "stream",
     "text": [
      "(23463, 12)\n",
      "Index(['country_name', 'city_name', 'aqi_value', 'aqi_category',\n",
      "       'co_aqi_value\\t', 'co_aqi_category', 'ozone_aqi_value',\n",
      "       'ozone_aqi_category', 'no2_aqi_value', 'no2_aqi_category',\n",
      "       'pm2.5_aqi_value', 'pm2.5_aqi_category'],\n",
      "      dtype='object')\n"
     ]
    }
   ],
   "source": [
    "# View the first 5 rows\n",
    "air_data.head(5)\n",
    "\n",
    "# Check the shape of the dataset\n",
    "print(air_data.shape)\n",
    "\n",
    "# Display column names and data types\n",
    "print(air_data.columns)"
   ]
  },
  {
   "cell_type": "markdown",
   "metadata": {},
   "source": [
    "### Step 4: Calculate Summary Statistics\n",
    "\n",
    "Task:\n",
    "- Use `.describe()` to get summary statistics for all numeric columns.\n",
    "- What are some takeaways that you notice?  \n"
   ]
  },
  {
   "cell_type": "code",
   "execution_count": 17,
   "metadata": {},
   "outputs": [
    {
     "data": {
      "text/html": [
       "<div>\n",
       "<style scoped>\n",
       "    .dataframe tbody tr th:only-of-type {\n",
       "        vertical-align: middle;\n",
       "    }\n",
       "\n",
       "    .dataframe tbody tr th {\n",
       "        vertical-align: top;\n",
       "    }\n",
       "\n",
       "    .dataframe thead th {\n",
       "        text-align: right;\n",
       "    }\n",
       "</style>\n",
       "<table border=\"1\" class=\"dataframe\">\n",
       "  <thead>\n",
       "    <tr style=\"text-align: right;\">\n",
       "      <th></th>\n",
       "      <th>aqi_value</th>\n",
       "      <th>co_aqi_value\\t</th>\n",
       "      <th>ozone_aqi_value</th>\n",
       "      <th>no2_aqi_value</th>\n",
       "      <th>pm2.5_aqi_value</th>\n",
       "    </tr>\n",
       "  </thead>\n",
       "  <tbody>\n",
       "    <tr>\n",
       "      <th>count</th>\n",
       "      <td>23463.000000</td>\n",
       "      <td>23463.000000</td>\n",
       "      <td>23463.000000</td>\n",
       "      <td>23463.000000</td>\n",
       "      <td>23463.000000</td>\n",
       "    </tr>\n",
       "    <tr>\n",
       "      <th>mean</th>\n",
       "      <td>72.010868</td>\n",
       "      <td>1.368367</td>\n",
       "      <td>35.193709</td>\n",
       "      <td>3.063334</td>\n",
       "      <td>68.519755</td>\n",
       "    </tr>\n",
       "    <tr>\n",
       "      <th>std</th>\n",
       "      <td>56.055220</td>\n",
       "      <td>1.832064</td>\n",
       "      <td>28.098723</td>\n",
       "      <td>5.254108</td>\n",
       "      <td>54.796443</td>\n",
       "    </tr>\n",
       "    <tr>\n",
       "      <th>min</th>\n",
       "      <td>6.000000</td>\n",
       "      <td>0.000000</td>\n",
       "      <td>0.000000</td>\n",
       "      <td>0.000000</td>\n",
       "      <td>0.000000</td>\n",
       "    </tr>\n",
       "    <tr>\n",
       "      <th>25%</th>\n",
       "      <td>39.000000</td>\n",
       "      <td>1.000000</td>\n",
       "      <td>21.000000</td>\n",
       "      <td>0.000000</td>\n",
       "      <td>35.000000</td>\n",
       "    </tr>\n",
       "    <tr>\n",
       "      <th>50%</th>\n",
       "      <td>55.000000</td>\n",
       "      <td>1.000000</td>\n",
       "      <td>31.000000</td>\n",
       "      <td>1.000000</td>\n",
       "      <td>54.000000</td>\n",
       "    </tr>\n",
       "    <tr>\n",
       "      <th>75%</th>\n",
       "      <td>79.000000</td>\n",
       "      <td>1.000000</td>\n",
       "      <td>40.000000</td>\n",
       "      <td>4.000000</td>\n",
       "      <td>79.000000</td>\n",
       "    </tr>\n",
       "    <tr>\n",
       "      <th>max</th>\n",
       "      <td>500.000000</td>\n",
       "      <td>133.000000</td>\n",
       "      <td>235.000000</td>\n",
       "      <td>91.000000</td>\n",
       "      <td>500.000000</td>\n",
       "    </tr>\n",
       "  </tbody>\n",
       "</table>\n",
       "</div>"
      ],
      "text/plain": [
       "          aqi_value  co_aqi_value\\t  ozone_aqi_value  no2_aqi_value  \\\n",
       "count  23463.000000    23463.000000     23463.000000   23463.000000   \n",
       "mean      72.010868        1.368367        35.193709       3.063334   \n",
       "std       56.055220        1.832064        28.098723       5.254108   \n",
       "min        6.000000        0.000000         0.000000       0.000000   \n",
       "25%       39.000000        1.000000        21.000000       0.000000   \n",
       "50%       55.000000        1.000000        31.000000       1.000000   \n",
       "75%       79.000000        1.000000        40.000000       4.000000   \n",
       "max      500.000000      133.000000       235.000000      91.000000   \n",
       "\n",
       "       pm2.5_aqi_value  \n",
       "count     23463.000000  \n",
       "mean         68.519755  \n",
       "std          54.796443  \n",
       "min           0.000000  \n",
       "25%          35.000000  \n",
       "50%          54.000000  \n",
       "75%          79.000000  \n",
       "max         500.000000  "
      ]
     },
     "execution_count": 17,
     "metadata": {},
     "output_type": "execute_result"
    }
   ],
   "source": [
    "# Summary statistics for all numeric columns\n",
    "air_data.describe()"
   ]
  }
 ],
 "metadata": {
  "kernelspec": {
   "display_name": "data-analysis-env",
   "language": "python",
   "name": "python3"
  },
  "language_info": {
   "codemirror_mode": {
    "name": "ipython",
    "version": 3
   },
   "file_extension": ".py",
   "mimetype": "text/x-python",
   "name": "python",
   "nbconvert_exporter": "python",
   "pygments_lexer": "ipython3",
   "version": "3.9.22"
  }
 },
 "nbformat": 4,
 "nbformat_minor": 2
}
