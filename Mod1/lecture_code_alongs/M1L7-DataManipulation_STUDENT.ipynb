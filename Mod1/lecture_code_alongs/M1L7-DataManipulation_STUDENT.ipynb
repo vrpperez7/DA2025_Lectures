{
 "cells": [
  {
   "cell_type": "markdown",
   "metadata": {},
   "source": [
    "# M1L7 Data Types, Dates, Strings \n",
    "\n",
    " We'll be working with UFO sighting data.\n",
    "\n",
    "### **Dataset:** [UFO Sightings](https://www.kaggle.com/datasets/jonwright13/ufo-sightings-around-the-world-better?resource=download) -- This is also in your data folder \n",
    "\n",
    "### **Objectives:**\n",
    "\n",
    "- Change an object to a datetime object \n",
    "- Use string methods to manipulate data \n"
   ]
  },
  {
   "cell_type": "markdown",
   "metadata": {},
   "source": [
    "### Step 1:  Import pandas and numpy "
   ]
  },
  {
   "cell_type": "code",
   "execution_count": 1,
   "metadata": {},
   "outputs": [],
   "source": [
    "#Import packages \n",
    "import pandas as pd\n",
    "import numpy as np"
   ]
  },
  {
   "cell_type": "markdown",
   "metadata": {},
   "source": [
    "### Step 2:  Load in the data and save it as `ufo`\n",
    "\n",
    "- The dataset is named `ufo-sightings.csv`"
   ]
  },
  {
   "cell_type": "code",
   "execution_count": 4,
   "metadata": {},
   "outputs": [],
   "source": [
    "ufo = pd.read_csv(\"ufo-sightings-transformed.csv\")"
   ]
  },
  {
   "cell_type": "markdown",
   "metadata": {},
   "source": [
    "### Step 3: Check column data types and the head of the data -- does the data/types make sense?"
   ]
  },
  {
   "cell_type": "code",
   "execution_count": 6,
   "metadata": {},
   "outputs": [
    {
     "data": {
      "text/html": [
       "<div>\n",
       "<style scoped>\n",
       "    .dataframe tbody tr th:only-of-type {\n",
       "        vertical-align: middle;\n",
       "    }\n",
       "\n",
       "    .dataframe tbody tr th {\n",
       "        vertical-align: top;\n",
       "    }\n",
       "\n",
       "    .dataframe thead th {\n",
       "        text-align: right;\n",
       "    }\n",
       "</style>\n",
       "<table border=\"1\" class=\"dataframe\">\n",
       "  <thead>\n",
       "    <tr style=\"text-align: right;\">\n",
       "      <th></th>\n",
       "      <th>Unnamed: 0</th>\n",
       "      <th>Date_time</th>\n",
       "      <th>date_documented</th>\n",
       "      <th>Year</th>\n",
       "      <th>Month</th>\n",
       "      <th>Hour</th>\n",
       "      <th>Season</th>\n",
       "      <th>Country_Code</th>\n",
       "      <th>Country</th>\n",
       "      <th>Region</th>\n",
       "      <th>Locale</th>\n",
       "      <th>latitude</th>\n",
       "      <th>longitude</th>\n",
       "      <th>UFO_shape</th>\n",
       "      <th>length_of_encounter_seconds</th>\n",
       "      <th>Encounter_Duration</th>\n",
       "      <th>Description</th>\n",
       "    </tr>\n",
       "  </thead>\n",
       "  <tbody>\n",
       "    <tr>\n",
       "      <th>0</th>\n",
       "      <td>0</td>\n",
       "      <td>1949-10-10 20:30:00</td>\n",
       "      <td>4/27/2004</td>\n",
       "      <td>1949</td>\n",
       "      <td>10</td>\n",
       "      <td>20</td>\n",
       "      <td>Autumn</td>\n",
       "      <td>USA</td>\n",
       "      <td>United States</td>\n",
       "      <td>Texas</td>\n",
       "      <td>San Marcos</td>\n",
       "      <td>29.883056</td>\n",
       "      <td>-97.941111</td>\n",
       "      <td>Cylinder</td>\n",
       "      <td>2700.0</td>\n",
       "      <td>45 minutes</td>\n",
       "      <td>This event took place in early fall around 194...</td>\n",
       "    </tr>\n",
       "    <tr>\n",
       "      <th>1</th>\n",
       "      <td>1</td>\n",
       "      <td>1949-10-10 21:00:00</td>\n",
       "      <td>12/16/2005</td>\n",
       "      <td>1949</td>\n",
       "      <td>10</td>\n",
       "      <td>21</td>\n",
       "      <td>Autumn</td>\n",
       "      <td>USA</td>\n",
       "      <td>United States</td>\n",
       "      <td>Texas</td>\n",
       "      <td>Bexar County</td>\n",
       "      <td>29.384210</td>\n",
       "      <td>-98.581082</td>\n",
       "      <td>Light</td>\n",
       "      <td>7200.0</td>\n",
       "      <td>1-2 hrs</td>\n",
       "      <td>1949 Lackland AFB&amp;#44 TX.  Lights racing acros...</td>\n",
       "    </tr>\n",
       "    <tr>\n",
       "      <th>2</th>\n",
       "      <td>2</td>\n",
       "      <td>1955-10-10 17:00:00</td>\n",
       "      <td>1/21/2008</td>\n",
       "      <td>1955</td>\n",
       "      <td>10</td>\n",
       "      <td>17</td>\n",
       "      <td>Autumn</td>\n",
       "      <td>GBR</td>\n",
       "      <td>United Kingdom</td>\n",
       "      <td>England</td>\n",
       "      <td>Chester</td>\n",
       "      <td>53.200000</td>\n",
       "      <td>-2.916667</td>\n",
       "      <td>Circle</td>\n",
       "      <td>20.0</td>\n",
       "      <td>20 seconds</td>\n",
       "      <td>Green/Orange circular disc over Chester&amp;#44 En...</td>\n",
       "    </tr>\n",
       "    <tr>\n",
       "      <th>3</th>\n",
       "      <td>3</td>\n",
       "      <td>1956-10-10 21:00:00</td>\n",
       "      <td>1/17/2004</td>\n",
       "      <td>1956</td>\n",
       "      <td>10</td>\n",
       "      <td>21</td>\n",
       "      <td>Autumn</td>\n",
       "      <td>USA</td>\n",
       "      <td>United States</td>\n",
       "      <td>Texas</td>\n",
       "      <td>Edna</td>\n",
       "      <td>28.978333</td>\n",
       "      <td>-96.645833</td>\n",
       "      <td>Circle</td>\n",
       "      <td>20.0</td>\n",
       "      <td>1/2 hour</td>\n",
       "      <td>My older brother and twin sister were leaving ...</td>\n",
       "    </tr>\n",
       "    <tr>\n",
       "      <th>4</th>\n",
       "      <td>4</td>\n",
       "      <td>1960-10-10 20:00:00</td>\n",
       "      <td>1/22/2004</td>\n",
       "      <td>1960</td>\n",
       "      <td>10</td>\n",
       "      <td>20</td>\n",
       "      <td>Autumn</td>\n",
       "      <td>USA</td>\n",
       "      <td>United States</td>\n",
       "      <td>Hawaii</td>\n",
       "      <td>Kaneohe</td>\n",
       "      <td>21.418056</td>\n",
       "      <td>-157.803611</td>\n",
       "      <td>Light</td>\n",
       "      <td>900.0</td>\n",
       "      <td>15 minutes</td>\n",
       "      <td>AS a Marine 1st Lt. flying an FJ4B fighter/att...</td>\n",
       "    </tr>\n",
       "  </tbody>\n",
       "</table>\n",
       "</div>"
      ],
      "text/plain": [
       "   Unnamed: 0            Date_time date_documented  Year  Month  Hour  Season  \\\n",
       "0           0  1949-10-10 20:30:00       4/27/2004  1949     10    20  Autumn   \n",
       "1           1  1949-10-10 21:00:00      12/16/2005  1949     10    21  Autumn   \n",
       "2           2  1955-10-10 17:00:00       1/21/2008  1955     10    17  Autumn   \n",
       "3           3  1956-10-10 21:00:00       1/17/2004  1956     10    21  Autumn   \n",
       "4           4  1960-10-10 20:00:00       1/22/2004  1960     10    20  Autumn   \n",
       "\n",
       "  Country_Code         Country   Region        Locale   latitude   longitude  \\\n",
       "0          USA   United States    Texas    San Marcos  29.883056  -97.941111   \n",
       "1          USA   United States    Texas  Bexar County  29.384210  -98.581082   \n",
       "2          GBR  United Kingdom  England       Chester  53.200000   -2.916667   \n",
       "3          USA   United States    Texas          Edna  28.978333  -96.645833   \n",
       "4          USA   United States   Hawaii       Kaneohe  21.418056 -157.803611   \n",
       "\n",
       "  UFO_shape  length_of_encounter_seconds Encounter_Duration  \\\n",
       "0  Cylinder                       2700.0         45 minutes   \n",
       "1     Light                       7200.0            1-2 hrs   \n",
       "2    Circle                         20.0         20 seconds   \n",
       "3    Circle                         20.0           1/2 hour   \n",
       "4     Light                        900.0         15 minutes   \n",
       "\n",
       "                                         Description  \n",
       "0  This event took place in early fall around 194...  \n",
       "1  1949 Lackland AFB&#44 TX.  Lights racing acros...  \n",
       "2  Green/Orange circular disc over Chester&#44 En...  \n",
       "3  My older brother and twin sister were leaving ...  \n",
       "4  AS a Marine 1st Lt. flying an FJ4B fighter/att...  "
      ]
     },
     "execution_count": 6,
     "metadata": {},
     "output_type": "execute_result"
    }
   ],
   "source": [
    "ufo.head()"
   ]
  },
  {
   "cell_type": "markdown",
   "metadata": {},
   "source": [
    "### Step 4:  Convert the `Date` column to datetime \n",
    "\n",
    "- Even though we have columns for year, month, and hour; we still want to change Date_time to a datetime object \n",
    "- Dates can come in many formats so we will use this format: '%Y-%m-%d %H:%M:%S'"
   ]
  },
  {
   "cell_type": "code",
   "execution_count": 9,
   "metadata": {},
   "outputs": [],
   "source": [
    "ufo['Date_time_formatted'] = pd.to_datetime(ufo[\"Date_time\"], format='%Y-%m-%d %H:%M:%S')"
   ]
  },
  {
   "cell_type": "code",
   "execution_count": 10,
   "metadata": {},
   "outputs": [
    {
     "name": "stdout",
     "output_type": "stream",
     "text": [
      "<class 'pandas.core.frame.DataFrame'>\n",
      "RangeIndex: 80328 entries, 0 to 80327\n",
      "Data columns (total 18 columns):\n",
      " #   Column                       Non-Null Count  Dtype         \n",
      "---  ------                       --------------  -----         \n",
      " 0   Unnamed: 0                   80328 non-null  int64         \n",
      " 1   Date_time                    80328 non-null  object        \n",
      " 2   date_documented              80328 non-null  object        \n",
      " 3   Year                         80328 non-null  int64         \n",
      " 4   Month                        80328 non-null  int64         \n",
      " 5   Hour                         80328 non-null  int64         \n",
      " 6   Season                       80328 non-null  object        \n",
      " 7   Country_Code                 80069 non-null  object        \n",
      " 8   Country                      80069 non-null  object        \n",
      " 9   Region                       79762 non-null  object        \n",
      " 10  Locale                       79871 non-null  object        \n",
      " 11  latitude                     80328 non-null  float64       \n",
      " 12  longitude                    80328 non-null  float64       \n",
      " 13  UFO_shape                    78398 non-null  object        \n",
      " 14  length_of_encounter_seconds  80328 non-null  float64       \n",
      " 15  Encounter_Duration           80328 non-null  object        \n",
      " 16  Description                  80313 non-null  object        \n",
      " 17  Date_time_formatted          80328 non-null  datetime64[ns]\n",
      "dtypes: datetime64[ns](1), float64(3), int64(4), object(10)\n",
      "memory usage: 11.0+ MB\n"
     ]
    }
   ],
   "source": [
    "#Run this to see if the update worked \n",
    "ufo.info()"
   ]
  },
  {
   "cell_type": "markdown",
   "metadata": {},
   "source": [
    "### Step 5:  Make the `Description` column all lowercase \n",
    "\n",
    "- Think about why would we want text all lowercase \n",
    "\n",
    "**Instructor Notes**\n",
    "Feel free to talk about text analytics or LLMs or a simple case like states being different cases and you want to do aggregations"
   ]
  },
  {
   "cell_type": "code",
   "execution_count": 11,
   "metadata": {},
   "outputs": [
    {
     "name": "stdout",
     "output_type": "stream",
     "text": [
      "0        this event took place in early fall around 194...\n",
      "1        1949 lackland afb&#44 tx.  lights racing acros...\n",
      "2        green/orange circular disc over chester&#44 en...\n",
      "3        my older brother and twin sister were leaving ...\n",
      "4        as a marine 1st lt. flying an fj4b fighter/att...\n",
      "                               ...                        \n",
      "80323    round from the distance/slowly changing colors...\n",
      "80324    boise&#44 id&#44 spherical&#44 20 min&#44 10 r...\n",
      "80325                                         napa ufo&#44\n",
      "80326    saw a five gold lit cicular craft moving fastl...\n",
      "80327    2 witnesses 2  miles apart&#44 red &amp; white...\n",
      "Name: Description, Length: 80328, dtype: object\n"
     ]
    }
   ],
   "source": [
    "ufo['Description'] = ufo['Description'].str.lower()\n",
    "print(ufo['Description'])"
   ]
  },
  {
   "cell_type": "markdown",
   "metadata": {},
   "source": [
    "### Step 6:  Replace spaces with underscores in the `Encounter_Duration` column\n"
   ]
  },
  {
   "cell_type": "code",
   "execution_count": 13,
   "metadata": {},
   "outputs": [
    {
     "name": "stdout",
     "output_type": "stream",
     "text": [
      "0        45_minutes\n",
      "1           1-2_hrs\n",
      "2        20_seconds\n",
      "3          1/2_hour\n",
      "4        15_minutes\n",
      "            ...    \n",
      "80323    10_minutes\n",
      "80324    20_minutes\n",
      "80325          hour\n",
      "80326     5_seconds\n",
      "80327    17_minutes\n",
      "Name: Encounter_Duration, Length: 80328, dtype: object\n"
     ]
    }
   ],
   "source": [
    "ufo['Encounter_Duration'] = ufo['Encounter_Duration'].str.replace(' ','_')\n",
    "print(ufo['Encounter_Duration'])"
   ]
  }
 ],
 "metadata": {
  "kernelspec": {
   "display_name": "data-analysis-env",
   "language": "python",
   "name": "python3"
  },
  "language_info": {
   "codemirror_mode": {
    "name": "ipython",
    "version": 3
   },
   "file_extension": ".py",
   "mimetype": "text/x-python",
   "name": "python",
   "nbconvert_exporter": "python",
   "pygments_lexer": "ipython3",
   "version": "3.9.22"
  }
 },
 "nbformat": 4,
 "nbformat_minor": 2
}
