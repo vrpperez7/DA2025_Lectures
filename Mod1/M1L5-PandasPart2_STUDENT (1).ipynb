{
 "cells": [
  {
   "cell_type": "markdown",
   "metadata": {},
   "source": [
    "# M1L5 Pandas Part 2 Data Challenge:  EDA\n",
    "\n",
    "## Scenario\n",
    "\n",
    "We'll be working with a real-world dataset from the NYC Open Data portal, focusing on the leading causes of death in New York City (same as data challenge 4). This dataset provides valuable insights into public health trends and disparities. Understanding this data is crucial for community advocacy and policy-making.\n",
    "\n",
    "For more information about the data (which is highly recommended) here is the [Link to the Data](https://data.cityofnewyork.us/Health/New-York-City-Leading-Causes-of-Death/jb7j-dtam/about_data)\n",
    "\n",
    "## Objectives \n",
    "- Group and Aggregate Data\n",
    "- Create a contingency table with `crosstab()`\n",
    "- Check for duplicated data (remember not all duplicated data needs to be dropped)\n",
    "\n",
    "**Let's get started!**"
   ]
  },
  {
   "cell_type": "markdown",
   "metadata": {},
   "source": [
    "### Step 1:  Import Pandas & Numpy"
   ]
  },
  {
   "cell_type": "code",
   "execution_count": 3,
   "metadata": {},
   "outputs": [],
   "source": [
    "# Import Pandas & Numpy\n",
    "import pandas as pd\n",
    "import numpy as np"
   ]
  },
  {
   "cell_type": "markdown",
   "metadata": {},
   "source": [
    "### Step 2: Load the dataset (csv file stored in the data folder) into a Pandas DataFrame. The file is called:  `nyc_causeofdeath.csv`\n"
   ]
  },
  {
   "cell_type": "code",
   "execution_count": 4,
   "metadata": {},
   "outputs": [],
   "source": [
    "df = pd.read_csv(\"nyc_causeofdeath.csv\")\n"
   ]
  },
  {
   "cell_type": "markdown",
   "metadata": {},
   "source": [
    "### Step 3: Check the information of the data (column names, data types, size, etc.)\n"
   ]
  },
  {
   "cell_type": "code",
   "execution_count": 122,
   "metadata": {},
   "outputs": [
    {
     "data": {
      "text/html": [
       "<div>\n",
       "<style scoped>\n",
       "    .dataframe tbody tr th:only-of-type {\n",
       "        vertical-align: middle;\n",
       "    }\n",
       "\n",
       "    .dataframe tbody tr th {\n",
       "        vertical-align: top;\n",
       "    }\n",
       "\n",
       "    .dataframe thead th {\n",
       "        text-align: right;\n",
       "    }\n",
       "</style>\n",
       "<table border=\"1\" class=\"dataframe\">\n",
       "  <thead>\n",
       "    <tr style=\"text-align: right;\">\n",
       "      <th></th>\n",
       "      <th>Year</th>\n",
       "      <th>Leading Cause</th>\n",
       "      <th>Sex</th>\n",
       "      <th>Race Ethnicity</th>\n",
       "      <th>Deaths</th>\n",
       "      <th>Death Rate</th>\n",
       "      <th>Age Adjusted Death Rate</th>\n",
       "    </tr>\n",
       "  </thead>\n",
       "  <tbody>\n",
       "    <tr>\n",
       "      <th>0</th>\n",
       "      <td>2007</td>\n",
       "      <td>Diabetes Mellitus (E10-E14)</td>\n",
       "      <td>M</td>\n",
       "      <td>Other Race/ Ethnicity</td>\n",
       "      <td>11.0</td>\n",
       "      <td>NaN</td>\n",
       "      <td>.</td>\n",
       "    </tr>\n",
       "    <tr>\n",
       "      <th>1</th>\n",
       "      <td>2010</td>\n",
       "      <td>Diseases of Heart (I00-I09, I11, I13, I20-I51)</td>\n",
       "      <td>F</td>\n",
       "      <td>Not Stated/Unknown</td>\n",
       "      <td>70.0</td>\n",
       "      <td>NaN</td>\n",
       "      <td>.</td>\n",
       "    </tr>\n",
       "    <tr>\n",
       "      <th>2</th>\n",
       "      <td>2007</td>\n",
       "      <td>Cerebrovascular Disease (Stroke: I60-I69)</td>\n",
       "      <td>M</td>\n",
       "      <td>Black Non-Hispanic</td>\n",
       "      <td>213.0</td>\n",
       "      <td>25.0</td>\n",
       "      <td>33</td>\n",
       "    </tr>\n",
       "    <tr>\n",
       "      <th>3</th>\n",
       "      <td>2007</td>\n",
       "      <td>Atherosclerosis (I70)</td>\n",
       "      <td>F</td>\n",
       "      <td>Other Race/ Ethnicity</td>\n",
       "      <td>NaN</td>\n",
       "      <td>NaN</td>\n",
       "      <td>.</td>\n",
       "    </tr>\n",
       "    <tr>\n",
       "      <th>4</th>\n",
       "      <td>2014</td>\n",
       "      <td>Malignant Neoplasms (Cancer: C00-C97)</td>\n",
       "      <td>F</td>\n",
       "      <td>Black Non-Hispanic</td>\n",
       "      <td>1852.0</td>\n",
       "      <td>176.5</td>\n",
       "      <td>148.4</td>\n",
       "    </tr>\n",
       "  </tbody>\n",
       "</table>\n",
       "</div>"
      ],
      "text/plain": [
       "   Year                                   Leading Cause Sex  \\\n",
       "0  2007                     Diabetes Mellitus (E10-E14)   M   \n",
       "1  2010  Diseases of Heart (I00-I09, I11, I13, I20-I51)   F   \n",
       "2  2007       Cerebrovascular Disease (Stroke: I60-I69)   M   \n",
       "3  2007                           Atherosclerosis (I70)   F   \n",
       "4  2014           Malignant Neoplasms (Cancer: C00-C97)   F   \n",
       "\n",
       "          Race Ethnicity  Deaths  Death Rate Age Adjusted Death Rate  \n",
       "0  Other Race/ Ethnicity    11.0         NaN                       .  \n",
       "1     Not Stated/Unknown    70.0         NaN                       .  \n",
       "2     Black Non-Hispanic   213.0        25.0                      33  \n",
       "3  Other Race/ Ethnicity     NaN         NaN                       .  \n",
       "4     Black Non-Hispanic  1852.0       176.5                   148.4  "
      ]
     },
     "execution_count": 122,
     "metadata": {},
     "output_type": "execute_result"
    }
   ],
   "source": [
    "df.head(5)"
   ]
  },
  {
   "cell_type": "code",
   "execution_count": 13,
   "metadata": {},
   "outputs": [
    {
     "data": {
      "text/plain": [
       "Index(['Year', 'Leading Cause', 'Sex', 'Race Ethnicity', 'Deaths',\n",
       "       'Death Rate', 'Age Adjusted Death Rate'],\n",
       "      dtype='object')"
      ]
     },
     "execution_count": 13,
     "metadata": {},
     "output_type": "execute_result"
    }
   ],
   "source": [
    "df.keys()"
   ]
  },
  {
   "cell_type": "markdown",
   "metadata": {},
   "source": [
    "### Step 4:  We need to change Deaths from an object to an integer so that we can do some MATH (you will learn this officially later) for now just run the cell below.\n"
   ]
  },
  {
   "cell_type": "code",
   "execution_count": 10,
   "metadata": {},
   "outputs": [],
   "source": [
    "#Run this cell without changes \n",
    "df['Deaths'] = df['Deaths'].replace('.', np.nan)\n",
    "df['Deaths'] = pd.to_numeric(df['Deaths'])\n"
   ]
  },
  {
   "cell_type": "markdown",
   "metadata": {},
   "source": [
    "### Step 5:  Create code to get the sum of deaths by Sex -- what Sex has the most deaths based on this data (add a comment in the cell with your answer)"
   ]
  },
  {
   "cell_type": "code",
   "execution_count": 124,
   "metadata": {},
   "outputs": [
    {
     "name": "stdout",
     "output_type": "stream",
     "text": [
      "Sex\n",
      "F    463\n",
      "M    493\n",
      "Name: Deaths, dtype: int64\n"
     ]
    }
   ],
   "source": [
    "deaths_by_sex = df['Deaths'].groupby(df['Sex']).count()\n",
    "print(deaths_by_sex)\n",
    "\n",
    "#Men had the highest date rate"
   ]
  },
  {
   "cell_type": "markdown",
   "metadata": {},
   "source": [
    "### Step 6:  Now create a contingency table (using `crosstab()`) of the Leading Cause of Death by Sex -- put a comment in the cell of a takeaway from the output "
   ]
  },
  {
   "cell_type": "code",
   "execution_count": null,
   "metadata": {},
   "outputs": [
    {
     "data": {
      "text/html": [
       "<div>\n",
       "<style scoped>\n",
       "    .dataframe tbody tr th:only-of-type {\n",
       "        vertical-align: middle;\n",
       "    }\n",
       "\n",
       "    .dataframe tbody tr th {\n",
       "        vertical-align: top;\n",
       "    }\n",
       "\n",
       "    .dataframe thead th {\n",
       "        text-align: right;\n",
       "    }\n",
       "</style>\n",
       "<table border=\"1\" class=\"dataframe\">\n",
       "  <thead>\n",
       "    <tr style=\"text-align: right;\">\n",
       "      <th>Leading Cause</th>\n",
       "      <th>Accidents Except Drug Posioning (V01-X39, X43, X45-X59, Y85-Y86)</th>\n",
       "      <th>All Other Causes</th>\n",
       "      <th>Alzheimer's Disease (G30)</th>\n",
       "      <th>Aortic Aneurysm and Dissection (I71)</th>\n",
       "      <th>Assault (Homicide: Y87.1, X85-Y09)</th>\n",
       "      <th>Atherosclerosis (I70)</th>\n",
       "      <th>Cerebrovascular Disease (Stroke: I60-I69)</th>\n",
       "      <th>Certain Conditions originating in the Perinatal Period (P00-P96)</th>\n",
       "      <th>Chronic Liver Disease and Cirrhosis (K70, K73)</th>\n",
       "      <th>Chronic Lower Respiratory Diseases (J40-J47)</th>\n",
       "      <th>...</th>\n",
       "      <th>Insitu or Benign / Uncertain Neoplasms (D00-D48)</th>\n",
       "      <th>Intentional Self-Harm (Suicide: X60-X84, Y87.0)</th>\n",
       "      <th>Malignant Neoplasms (Cancer: C00-C97)</th>\n",
       "      <th>Mental and Behavioral Disorders due to Accidental Poisoning and Other Psychoactive Substance Use (F11-F16, F18-F19, X40-X42, X44)</th>\n",
       "      <th>Mental and Behavioral Disorders due to Use of Alcohol (F10)</th>\n",
       "      <th>Nephritis, Nephrotic Syndrome and Nephrisis (N00-N07, N17-N19, N25-N27)</th>\n",
       "      <th>Parkinson's Disease (G20)</th>\n",
       "      <th>Septicemia (A40-A41)</th>\n",
       "      <th>Tuberculosis (A16-A19)</th>\n",
       "      <th>Viral Hepatitis (B15-B19)</th>\n",
       "    </tr>\n",
       "    <tr>\n",
       "      <th>Sex</th>\n",
       "      <th></th>\n",
       "      <th></th>\n",
       "      <th></th>\n",
       "      <th></th>\n",
       "      <th></th>\n",
       "      <th></th>\n",
       "      <th></th>\n",
       "      <th></th>\n",
       "      <th></th>\n",
       "      <th></th>\n",
       "      <th></th>\n",
       "      <th></th>\n",
       "      <th></th>\n",
       "      <th></th>\n",
       "      <th></th>\n",
       "      <th></th>\n",
       "      <th></th>\n",
       "      <th></th>\n",
       "      <th></th>\n",
       "      <th></th>\n",
       "      <th></th>\n",
       "    </tr>\n",
       "  </thead>\n",
       "  <tbody>\n",
       "    <tr>\n",
       "      <th>F</th>\n",
       "      <td>35</td>\n",
       "      <td>48</td>\n",
       "      <td>31</td>\n",
       "      <td>2</td>\n",
       "      <td>3</td>\n",
       "      <td>3</td>\n",
       "      <td>48</td>\n",
       "      <td>13</td>\n",
       "      <td>8</td>\n",
       "      <td>45</td>\n",
       "      <td>...</td>\n",
       "      <td>5</td>\n",
       "      <td>12</td>\n",
       "      <td>48</td>\n",
       "      <td>12</td>\n",
       "      <td>0</td>\n",
       "      <td>14</td>\n",
       "      <td>1</td>\n",
       "      <td>11</td>\n",
       "      <td>1</td>\n",
       "      <td>2</td>\n",
       "    </tr>\n",
       "    <tr>\n",
       "      <th>M</th>\n",
       "      <td>45</td>\n",
       "      <td>48</td>\n",
       "      <td>1</td>\n",
       "      <td>1</td>\n",
       "      <td>17</td>\n",
       "      <td>0</td>\n",
       "      <td>42</td>\n",
       "      <td>13</td>\n",
       "      <td>21</td>\n",
       "      <td>43</td>\n",
       "      <td>...</td>\n",
       "      <td>0</td>\n",
       "      <td>26</td>\n",
       "      <td>48</td>\n",
       "      <td>27</td>\n",
       "      <td>2</td>\n",
       "      <td>3</td>\n",
       "      <td>0</td>\n",
       "      <td>2</td>\n",
       "      <td>0</td>\n",
       "      <td>3</td>\n",
       "    </tr>\n",
       "  </tbody>\n",
       "</table>\n",
       "<p>2 rows × 26 columns</p>\n",
       "</div>"
      ],
      "text/plain": [
       "Leading Cause  Accidents Except Drug Posioning (V01-X39, X43, X45-X59, Y85-Y86)  \\\n",
       "Sex                                                                               \n",
       "F                                                             35                  \n",
       "M                                                             45                  \n",
       "\n",
       "Leading Cause  All Other Causes  Alzheimer's Disease (G30)  \\\n",
       "Sex                                                          \n",
       "F                            48                         31   \n",
       "M                            48                          1   \n",
       "\n",
       "Leading Cause  Aortic Aneurysm and Dissection (I71)  \\\n",
       "Sex                                                   \n",
       "F                                                 2   \n",
       "M                                                 1   \n",
       "\n",
       "Leading Cause  Assault (Homicide: Y87.1, X85-Y09)  Atherosclerosis (I70)  \\\n",
       "Sex                                                                        \n",
       "F                                               3                      3   \n",
       "M                                              17                      0   \n",
       "\n",
       "Leading Cause  Cerebrovascular Disease (Stroke: I60-I69)  \\\n",
       "Sex                                                        \n",
       "F                                                     48   \n",
       "M                                                     42   \n",
       "\n",
       "Leading Cause  Certain Conditions originating in the Perinatal Period (P00-P96)  \\\n",
       "Sex                                                                               \n",
       "F                                                             13                  \n",
       "M                                                             13                  \n",
       "\n",
       "Leading Cause  Chronic Liver Disease and Cirrhosis (K70, K73)  \\\n",
       "Sex                                                             \n",
       "F                                                           8   \n",
       "M                                                          21   \n",
       "\n",
       "Leading Cause  Chronic Lower Respiratory Diseases (J40-J47)  ...  \\\n",
       "Sex                                                          ...   \n",
       "F                                                        45  ...   \n",
       "M                                                        43  ...   \n",
       "\n",
       "Leading Cause  Insitu or Benign / Uncertain Neoplasms (D00-D48)  \\\n",
       "Sex                                                               \n",
       "F                                                             5   \n",
       "M                                                             0   \n",
       "\n",
       "Leading Cause  Intentional Self-Harm (Suicide: X60-X84, Y87.0)  \\\n",
       "Sex                                                              \n",
       "F                                                           12   \n",
       "M                                                           26   \n",
       "\n",
       "Leading Cause  Malignant Neoplasms (Cancer: C00-C97)  \\\n",
       "Sex                                                    \n",
       "F                                                 48   \n",
       "M                                                 48   \n",
       "\n",
       "Leading Cause  Mental and Behavioral Disorders due to Accidental Poisoning and Other Psychoactive Substance Use (F11-F16, F18-F19, X40-X42, X44)  \\\n",
       "Sex                                                                                                                                                \n",
       "F                                                             12                                                                                   \n",
       "M                                                             27                                                                                   \n",
       "\n",
       "Leading Cause  Mental and Behavioral Disorders due to Use of Alcohol (F10)  \\\n",
       "Sex                                                                          \n",
       "F                                                              0             \n",
       "M                                                              2             \n",
       "\n",
       "Leading Cause  Nephritis, Nephrotic Syndrome and Nephrisis (N00-N07, N17-N19, N25-N27)  \\\n",
       "Sex                                                                                      \n",
       "F                                                             14                         \n",
       "M                                                              3                         \n",
       "\n",
       "Leading Cause  Parkinson's Disease (G20)  Septicemia (A40-A41)  \\\n",
       "Sex                                                              \n",
       "F                                      1                    11   \n",
       "M                                      0                     2   \n",
       "\n",
       "Leading Cause  Tuberculosis (A16-A19)  Viral Hepatitis (B15-B19)  \n",
       "Sex                                                               \n",
       "F                                   1                          2  \n",
       "M                                   0                          3  \n",
       "\n",
       "[2 rows x 26 columns]"
      ]
     },
     "execution_count": 63,
     "metadata": {},
     "output_type": "execute_result"
    }
   ],
   "source": [
    "cause_by_sex = pd.crosstab(df['Sex'],df[\"Leading Cause\"])\n",
    "cause_by_sex\n",
    "\n",
    "#the output returns a tabular structure of the intersection of both dataframe columns\n"
   ]
  },
  {
   "cell_type": "markdown",
   "metadata": {},
   "source": [
    "### Step 7:  Are there any duplicate records in this dataset?  Code it below and add a comment with your answer"
   ]
  },
  {
   "cell_type": "code",
   "execution_count": 144,
   "metadata": {},
   "outputs": [
    {
     "data": {
      "text/plain": [
       "np.int64(1068)"
      ]
     },
     "execution_count": 144,
     "metadata": {},
     "output_type": "execute_result"
    }
   ],
   "source": [
    "df['Year'].duplicated().sum()\n",
    "df['Leading Cause'].duplicated().sum()\n"
   ]
  },
  {
   "cell_type": "markdown",
   "metadata": {},
   "source": [
    "## Above and Beyond (AAB)  -- OPTIONAL\n",
    "\n",
    "### Question 1:  What year had the most deaths?"
   ]
  },
  {
   "cell_type": "code",
   "execution_count": null,
   "metadata": {},
   "outputs": [
    {
     "data": {
      "text/plain": [
       "Year\n",
       "2007    53996.0\n",
       "2008    54138.0\n",
       "2009    52820.0\n",
       "2010    52505.0\n",
       "2011    52726.0\n",
       "2012    52420.0\n",
       "2013    53387.0\n",
       "2014    53006.0\n",
       "Name: Deaths, dtype: float64"
      ]
     },
     "execution_count": 101,
     "metadata": {},
     "output_type": "execute_result"
    }
   ],
   "source": [
    "df['Deaths'].groupby(df['Year']).sum()\n",
    "#2008 had the most deaths if we add all deaths"
   ]
  },
  {
   "cell_type": "markdown",
   "metadata": {},
   "source": [
    "### Question 2:  Change the 'Death Rate' column to a float.  Why would you want to do this?"
   ]
  },
  {
   "cell_type": "code",
   "execution_count": 114,
   "metadata": {},
   "outputs": [
    {
     "data": {
      "text/plain": [
       "0         NaN\n",
       "1         NaN\n",
       "2        25.0\n",
       "3         NaN\n",
       "4       176.5\n",
       "        ...  \n",
       "1089    170.3\n",
       "1090      NaN\n",
       "1091      NaN\n",
       "1092     13.0\n",
       "1093      8.9\n",
       "Name: Death Rate, Length: 1094, dtype: float64"
      ]
     },
     "execution_count": 114,
     "metadata": {},
     "output_type": "execute_result"
    }
   ],
   "source": [
    "df['Death Rate'] = df['Death Rate'].replace('.', np.nan)\n",
    "df['Death Rate']\n",
    "dfarray = np.array(df['Death Rate'])\n",
    "dffloat = dfarray.astype(float)\n",
    "df['Death Rate'] = dffloat\n",
    "df['Death Rate']\n",
    "\n",
    "#the death rate column is a continuous integer, making it a float includes any numbers after the decimal point"
   ]
  }
 ],
 "metadata": {
  "kernelspec": {
   "display_name": "data-analysis-env",
   "language": "python",
   "name": "python3"
  },
  "language_info": {
   "codemirror_mode": {
    "name": "ipython",
    "version": 3
   },
   "file_extension": ".py",
   "mimetype": "text/x-python",
   "name": "python",
   "nbconvert_exporter": "python",
   "pygments_lexer": "ipython3",
   "version": "3.9.22"
  }
 },
 "nbformat": 4,
 "nbformat_minor": 2
}
