{
 "cells": [
  {
   "cell_type": "markdown",
   "metadata": {},
   "source": [
    "# M1L6 Data Challenge:  Missing Data\n",
    "\n",
    "## Scenario\n",
    "\n",
    "You are continuing your analysis of the \"New York City Leading Causes of Death\" dataset.  You've noticed that the Deaths and Death Rate columns contain some missing values, represented by periods ('.').  Missing data is a common issue in real-world datasets, and it's crucial to handle it appropriately to avoid biased or inaccurate conclusions.\n",
    "\n",
    "\n",
    "For more information about the data (which is highly recommended) here is the [Link to the Data](https://data.cityofnewyork.us/Health/New-York-City-Leading-Causes-of-Death/jb7j-dtam/about_data)\n",
    "\n",
    "## Objectives \n",
    "\n",
    "- Create missing value indicator columns.\n",
    "- Identify the extent of missing data in the Deaths and Death Rate columns.\n",
    "- Impute these missing values using appropriate strategies.\n",
    "\n",
    "\n",
    "\n",
    "**Let's get started!**"
   ]
  },
  {
   "cell_type": "markdown",
   "metadata": {},
   "source": [
    "### Step 1:  Import Pandas & Numpy"
   ]
  },
  {
   "cell_type": "code",
   "execution_count": 1,
   "metadata": {},
   "outputs": [],
   "source": [
    "# Import Pandas \n",
    "import pandas as pd\n",
    "import numpy as np\n"
   ]
  },
  {
   "cell_type": "markdown",
   "metadata": {},
   "source": [
    "### Step 2: Load the dataset (csv file stored in the data folder) into a Pandas DataFrame. \n",
    "\n",
    "The file is called:  `nyc_causeofdeath.csv`\n"
   ]
  },
  {
   "cell_type": "code",
   "execution_count": 3,
   "metadata": {},
   "outputs": [],
   "source": [
    "df = pd.read_csv(\"nyc_causeofdeath.csv\")\n",
    "#df.head()"
   ]
  },
  {
   "cell_type": "markdown",
   "metadata": {},
   "source": [
    "### Step 3: Count up the number of missing values in 2 columns\n",
    "\n",
    "a.  Use value_counts() to determine the number of missing values (represented by '.') in the `Deaths` and `Death Rate` columns.  Print the value counts for each column.  Be sure to set dropna=False as an argument within value_counts()\n",
    "\n",
    "b.  Add a comment for the number of missig values (aka periods '.') are in each column\n"
   ]
  },
  {
   "cell_type": "code",
   "execution_count": 5,
   "metadata": {},
   "outputs": [
    {
     "name": "stdout",
     "output_type": "stream",
     "text": [
      "the amount of '.' in Deaths is: \n",
      "138\n",
      "Deaths\n",
      ".       138\n",
      "5        28\n",
      "8        22\n",
      "6        21\n",
      "7        15\n",
      "       ... \n",
      "261       1\n",
      "171       1\n",
      "1097      1\n",
      "299       1\n",
      "93        1\n",
      "Name: count, Length: 465, dtype: int64\n",
      "the amount of '.' in Death Rate is: \n",
      "386\n",
      "Death Rate\n",
      ".        386\n",
      "13         7\n",
      "17.3       7\n",
      "11.4       6\n",
      "16.3       6\n",
      "        ... \n",
      "19         1\n",
      "6.9        1\n",
      "91.6       1\n",
      "35.1       1\n",
      "170.3      1\n",
      "Name: count, Length: 442, dtype: int64\n"
     ]
    }
   ],
   "source": [
    "#Comment 1:  \n",
    "df['dotDeaths'] = df['Deaths'] == '.'\n",
    "print(\"the amount of '.' in Deaths is: \"), print(len(df[df['dotDeaths']== True]))\n",
    "print(df['Deaths'].value_counts())\n",
    "#Comment 2:  \n",
    "df['dotDeathRate'] = df['Death Rate'] == '.'\n",
    "print(\"the amount of '.' in Death Rate is: \"), print(len(df[df['dotDeathRate']== True]))\n",
    "print(df['Death Rate'].value_counts())\n"
   ]
  },
  {
   "cell_type": "markdown",
   "metadata": {},
   "source": [
    "### Step 4:  Replace periods with NaN (not a number) and convert to numeric \n",
    "\n",
    "- a. Replace the '.' values in the `Deaths` and `Death Rate` columns with `np.nan`.\n",
    "- b. Convert the `Deaths` and `Death Rate` columns to numeric.\n",
    "\n",
    "This may take several lines of code"
   ]
  },
  {
   "cell_type": "code",
   "execution_count": 211,
   "metadata": {},
   "outputs": [
    {
     "data": {
      "text/html": [
       "<div>\n",
       "<style scoped>\n",
       "    .dataframe tbody tr th:only-of-type {\n",
       "        vertical-align: middle;\n",
       "    }\n",
       "\n",
       "    .dataframe tbody tr th {\n",
       "        vertical-align: top;\n",
       "    }\n",
       "\n",
       "    .dataframe thead th {\n",
       "        text-align: right;\n",
       "    }\n",
       "</style>\n",
       "<table border=\"1\" class=\"dataframe\">\n",
       "  <thead>\n",
       "    <tr style=\"text-align: right;\">\n",
       "      <th></th>\n",
       "      <th>Year</th>\n",
       "      <th>Leading Cause</th>\n",
       "      <th>Sex</th>\n",
       "      <th>Race Ethnicity</th>\n",
       "      <th>Deaths</th>\n",
       "      <th>Death Rate</th>\n",
       "      <th>Age Adjusted Death Rate</th>\n",
       "      <th>dotDeaths</th>\n",
       "      <th>dotDeathRate</th>\n",
       "    </tr>\n",
       "  </thead>\n",
       "  <tbody>\n",
       "    <tr>\n",
       "      <th>0</th>\n",
       "      <td>2007</td>\n",
       "      <td>Diabetes Mellitus (E10-E14)</td>\n",
       "      <td>M</td>\n",
       "      <td>Other Race/ Ethnicity</td>\n",
       "      <td>11.0</td>\n",
       "      <td>NaN</td>\n",
       "      <td>.</td>\n",
       "      <td>False</td>\n",
       "      <td>True</td>\n",
       "    </tr>\n",
       "    <tr>\n",
       "      <th>1</th>\n",
       "      <td>2010</td>\n",
       "      <td>Diseases of Heart (I00-I09, I11, I13, I20-I51)</td>\n",
       "      <td>F</td>\n",
       "      <td>Not Stated/Unknown</td>\n",
       "      <td>70.0</td>\n",
       "      <td>NaN</td>\n",
       "      <td>.</td>\n",
       "      <td>False</td>\n",
       "      <td>True</td>\n",
       "    </tr>\n",
       "    <tr>\n",
       "      <th>2</th>\n",
       "      <td>2007</td>\n",
       "      <td>Cerebrovascular Disease (Stroke: I60-I69)</td>\n",
       "      <td>M</td>\n",
       "      <td>Black Non-Hispanic</td>\n",
       "      <td>213.0</td>\n",
       "      <td>25.0</td>\n",
       "      <td>33</td>\n",
       "      <td>False</td>\n",
       "      <td>False</td>\n",
       "    </tr>\n",
       "    <tr>\n",
       "      <th>3</th>\n",
       "      <td>2007</td>\n",
       "      <td>Atherosclerosis (I70)</td>\n",
       "      <td>F</td>\n",
       "      <td>Other Race/ Ethnicity</td>\n",
       "      <td>NaN</td>\n",
       "      <td>NaN</td>\n",
       "      <td>.</td>\n",
       "      <td>True</td>\n",
       "      <td>True</td>\n",
       "    </tr>\n",
       "    <tr>\n",
       "      <th>4</th>\n",
       "      <td>2014</td>\n",
       "      <td>Malignant Neoplasms (Cancer: C00-C97)</td>\n",
       "      <td>F</td>\n",
       "      <td>Black Non-Hispanic</td>\n",
       "      <td>1852.0</td>\n",
       "      <td>176.5</td>\n",
       "      <td>148.4</td>\n",
       "      <td>False</td>\n",
       "      <td>False</td>\n",
       "    </tr>\n",
       "  </tbody>\n",
       "</table>\n",
       "</div>"
      ],
      "text/plain": [
       "   Year                                   Leading Cause Sex  \\\n",
       "0  2007                     Diabetes Mellitus (E10-E14)   M   \n",
       "1  2010  Diseases of Heart (I00-I09, I11, I13, I20-I51)   F   \n",
       "2  2007       Cerebrovascular Disease (Stroke: I60-I69)   M   \n",
       "3  2007                           Atherosclerosis (I70)   F   \n",
       "4  2014           Malignant Neoplasms (Cancer: C00-C97)   F   \n",
       "\n",
       "          Race Ethnicity  Deaths  Death Rate Age Adjusted Death Rate  \\\n",
       "0  Other Race/ Ethnicity    11.0         NaN                       .   \n",
       "1     Not Stated/Unknown    70.0         NaN                       .   \n",
       "2     Black Non-Hispanic   213.0        25.0                      33   \n",
       "3  Other Race/ Ethnicity     NaN         NaN                       .   \n",
       "4     Black Non-Hispanic  1852.0       176.5                   148.4   \n",
       "\n",
       "   dotDeaths  dotDeathRate  \n",
       "0      False          True  \n",
       "1      False          True  \n",
       "2      False         False  \n",
       "3       True          True  \n",
       "4      False         False  "
      ]
     },
     "execution_count": 211,
     "metadata": {},
     "output_type": "execute_result"
    }
   ],
   "source": [
    "df['Deaths'] = df['Deaths'].replace('.',np.nan)\n",
    "df['Death Rate'] = df['Death Rate'].replace('.',np.nan)\n",
    "numDeath = np.array(df['Deaths'])\n",
    "numDeathRate = np.array(df['Death Rate'])\n",
    "numDeath = numDeath.astype(float)\n",
    "numDeathRate = numDeathRate.astype(float)\n",
    "df['Deaths'] = numDeath\n",
    "df['Death Rate'] = numDeathRate\n",
    "\n",
    "df.head()\n"
   ]
  },
  {
   "cell_type": "markdown",
   "metadata": {},
   "source": [
    "### Step 5:  Check the data's info again \n",
    "\n",
    "Run a `.info()` to see if the columns have missing data in them -- they should!"
   ]
  },
  {
   "cell_type": "code",
   "execution_count": 212,
   "metadata": {},
   "outputs": [
    {
     "name": "stdout",
     "output_type": "stream",
     "text": [
      "<class 'pandas.core.frame.DataFrame'>\n",
      "RangeIndex: 1094 entries, 0 to 1093\n",
      "Data columns (total 9 columns):\n",
      " #   Column                   Non-Null Count  Dtype  \n",
      "---  ------                   --------------  -----  \n",
      " 0   Year                     1094 non-null   int64  \n",
      " 1   Leading Cause            1094 non-null   object \n",
      " 2   Sex                      1094 non-null   object \n",
      " 3   Race Ethnicity           1094 non-null   object \n",
      " 4   Deaths                   956 non-null    float64\n",
      " 5   Death Rate               708 non-null    float64\n",
      " 6   Age Adjusted Death Rate  1094 non-null   object \n",
      " 7   dotDeaths                1094 non-null   bool   \n",
      " 8   dotDeathRate             1094 non-null   bool   \n",
      "dtypes: bool(2), float64(2), int64(1), object(4)\n",
      "memory usage: 62.1+ KB\n"
     ]
    }
   ],
   "source": [
    "df.info()"
   ]
  },
  {
   "cell_type": "markdown",
   "metadata": {},
   "source": [
    "## Step 6:  Create a missing inidcator (run the code below without changes)\n",
    "\n",
    "-  This column will have a 1 if the row is missing a value in a respective column and 0 if it is not \n",
    "\n",
    "-  Add a comment about what the np.where() function is (feel free to use documentation)"
   ]
  },
  {
   "cell_type": "code",
   "execution_count": 213,
   "metadata": {},
   "outputs": [],
   "source": [
    "#Run this cell without changes \n",
    "\n",
    "df['Deaths_missing'] = np.where(df['Deaths'].isna(), 1, 0)\n",
    "df['Death_Rate_missing'] = np.where(df['Death Rate'].isna(), 1, 0)"
   ]
  },
  {
   "cell_type": "markdown",
   "metadata": {},
   "source": [
    "### Step 7:  Calculate the median for each column "
   ]
  },
  {
   "cell_type": "code",
   "execution_count": 214,
   "metadata": {},
   "outputs": [
    {
     "name": "stdout",
     "output_type": "stream",
     "text": [
      "Median for Deaths is:  148.5\n",
      "Median for Death Rate is:  18.35\n"
     ]
    }
   ],
   "source": [
    "deathsmedian = df['Deaths'].median()\n",
    "deathratemedian = df['Death Rate'].median()\n",
    "\n",
    "print('Median for Deaths is: ', deathsmedian)\n",
    "print('Median for Death Rate is: ', deathratemedian)"
   ]
  },
  {
   "cell_type": "markdown",
   "metadata": {},
   "source": [
    "### Step 8:  Use the median to fill in each column's missing values (aka impute)\n",
    "\n",
    "Hint:  Use `fillna()` with the median values you created above."
   ]
  },
  {
   "cell_type": "code",
   "execution_count": 215,
   "metadata": {},
   "outputs": [
    {
     "data": {
      "text/html": [
       "<div>\n",
       "<style scoped>\n",
       "    .dataframe tbody tr th:only-of-type {\n",
       "        vertical-align: middle;\n",
       "    }\n",
       "\n",
       "    .dataframe tbody tr th {\n",
       "        vertical-align: top;\n",
       "    }\n",
       "\n",
       "    .dataframe thead th {\n",
       "        text-align: right;\n",
       "    }\n",
       "</style>\n",
       "<table border=\"1\" class=\"dataframe\">\n",
       "  <thead>\n",
       "    <tr style=\"text-align: right;\">\n",
       "      <th></th>\n",
       "      <th>Year</th>\n",
       "      <th>Leading Cause</th>\n",
       "      <th>Sex</th>\n",
       "      <th>Race Ethnicity</th>\n",
       "      <th>Deaths</th>\n",
       "      <th>Death Rate</th>\n",
       "      <th>Age Adjusted Death Rate</th>\n",
       "      <th>dotDeaths</th>\n",
       "      <th>dotDeathRate</th>\n",
       "      <th>Deaths_missing</th>\n",
       "      <th>Death_Rate_missing</th>\n",
       "    </tr>\n",
       "  </thead>\n",
       "  <tbody>\n",
       "    <tr>\n",
       "      <th>0</th>\n",
       "      <td>2007</td>\n",
       "      <td>Diabetes Mellitus (E10-E14)</td>\n",
       "      <td>M</td>\n",
       "      <td>Other Race/ Ethnicity</td>\n",
       "      <td>11.0</td>\n",
       "      <td>18.35</td>\n",
       "      <td>.</td>\n",
       "      <td>False</td>\n",
       "      <td>True</td>\n",
       "      <td>0</td>\n",
       "      <td>1</td>\n",
       "    </tr>\n",
       "    <tr>\n",
       "      <th>1</th>\n",
       "      <td>2010</td>\n",
       "      <td>Diseases of Heart (I00-I09, I11, I13, I20-I51)</td>\n",
       "      <td>F</td>\n",
       "      <td>Not Stated/Unknown</td>\n",
       "      <td>70.0</td>\n",
       "      <td>18.35</td>\n",
       "      <td>.</td>\n",
       "      <td>False</td>\n",
       "      <td>True</td>\n",
       "      <td>0</td>\n",
       "      <td>1</td>\n",
       "    </tr>\n",
       "    <tr>\n",
       "      <th>2</th>\n",
       "      <td>2007</td>\n",
       "      <td>Cerebrovascular Disease (Stroke: I60-I69)</td>\n",
       "      <td>M</td>\n",
       "      <td>Black Non-Hispanic</td>\n",
       "      <td>213.0</td>\n",
       "      <td>25.00</td>\n",
       "      <td>33</td>\n",
       "      <td>False</td>\n",
       "      <td>False</td>\n",
       "      <td>0</td>\n",
       "      <td>0</td>\n",
       "    </tr>\n",
       "    <tr>\n",
       "      <th>3</th>\n",
       "      <td>2007</td>\n",
       "      <td>Atherosclerosis (I70)</td>\n",
       "      <td>F</td>\n",
       "      <td>Other Race/ Ethnicity</td>\n",
       "      <td>148.5</td>\n",
       "      <td>18.35</td>\n",
       "      <td>.</td>\n",
       "      <td>True</td>\n",
       "      <td>True</td>\n",
       "      <td>1</td>\n",
       "      <td>1</td>\n",
       "    </tr>\n",
       "    <tr>\n",
       "      <th>4</th>\n",
       "      <td>2014</td>\n",
       "      <td>Malignant Neoplasms (Cancer: C00-C97)</td>\n",
       "      <td>F</td>\n",
       "      <td>Black Non-Hispanic</td>\n",
       "      <td>1852.0</td>\n",
       "      <td>176.50</td>\n",
       "      <td>148.4</td>\n",
       "      <td>False</td>\n",
       "      <td>False</td>\n",
       "      <td>0</td>\n",
       "      <td>0</td>\n",
       "    </tr>\n",
       "  </tbody>\n",
       "</table>\n",
       "</div>"
      ],
      "text/plain": [
       "   Year                                   Leading Cause Sex  \\\n",
       "0  2007                     Diabetes Mellitus (E10-E14)   M   \n",
       "1  2010  Diseases of Heart (I00-I09, I11, I13, I20-I51)   F   \n",
       "2  2007       Cerebrovascular Disease (Stroke: I60-I69)   M   \n",
       "3  2007                           Atherosclerosis (I70)   F   \n",
       "4  2014           Malignant Neoplasms (Cancer: C00-C97)   F   \n",
       "\n",
       "          Race Ethnicity  Deaths  Death Rate Age Adjusted Death Rate  \\\n",
       "0  Other Race/ Ethnicity    11.0       18.35                       .   \n",
       "1     Not Stated/Unknown    70.0       18.35                       .   \n",
       "2     Black Non-Hispanic   213.0       25.00                      33   \n",
       "3  Other Race/ Ethnicity   148.5       18.35                       .   \n",
       "4     Black Non-Hispanic  1852.0      176.50                   148.4   \n",
       "\n",
       "   dotDeaths  dotDeathRate  Deaths_missing  Death_Rate_missing  \n",
       "0      False          True               0                   1  \n",
       "1      False          True               0                   1  \n",
       "2      False         False               0                   0  \n",
       "3       True          True               1                   1  \n",
       "4      False         False               0                   0  "
      ]
     },
     "execution_count": 215,
     "metadata": {},
     "output_type": "execute_result"
    }
   ],
   "source": [
    "df['Deaths'] = df['Deaths'].fillna(deathsmedian)\n",
    "\n",
    "df['Death Rate'] = df['Death Rate'].fillna(deathratemedian)\n",
    "df.head()"
   ]
  },
  {
   "cell_type": "code",
   "execution_count": 216,
   "metadata": {},
   "outputs": [
    {
     "name": "stdout",
     "output_type": "stream",
     "text": [
      "<class 'pandas.core.frame.DataFrame'>\n",
      "RangeIndex: 1094 entries, 0 to 1093\n",
      "Data columns (total 11 columns):\n",
      " #   Column                   Non-Null Count  Dtype  \n",
      "---  ------                   --------------  -----  \n",
      " 0   Year                     1094 non-null   int64  \n",
      " 1   Leading Cause            1094 non-null   object \n",
      " 2   Sex                      1094 non-null   object \n",
      " 3   Race Ethnicity           1094 non-null   object \n",
      " 4   Deaths                   1094 non-null   float64\n",
      " 5   Death Rate               1094 non-null   float64\n",
      " 6   Age Adjusted Death Rate  1094 non-null   object \n",
      " 7   dotDeaths                1094 non-null   bool   \n",
      " 8   dotDeathRate             1094 non-null   bool   \n",
      " 9   Deaths_missing           1094 non-null   int64  \n",
      " 10  Death_Rate_missing       1094 non-null   int64  \n",
      "dtypes: bool(2), float64(2), int64(3), object(4)\n",
      "memory usage: 79.2+ KB\n"
     ]
    }
   ],
   "source": [
    "#Check the info to see if imputation worked \n",
    "\n",
    "df.info()"
   ]
  },
  {
   "cell_type": "markdown",
   "metadata": {},
   "source": [
    "## Above and Beyond (AAB)  -- OPTIONAL\n",
    "\n",
    "### Question 1:  What year had the most deaths?"
   ]
  },
  {
   "cell_type": "code",
   "execution_count": null,
   "metadata": {},
   "outputs": [
    {
     "data": {
      "text/plain": [
       "Year\n",
       "2007    57857.0\n",
       "2008    56959.5\n",
       "2009    56087.0\n",
       "2010    55772.0\n",
       "2011    56290.0\n",
       "2012    54202.0\n",
       "2013    54278.0\n",
       "2014    54045.5\n",
       "Name: Deaths, dtype: float64"
      ]
     },
     "execution_count": 217,
     "metadata": {},
     "output_type": "execute_result"
    }
   ],
   "source": [
    "df['Deaths'].groupby(df['Year']).sum()\n",
    "\n",
    "#2007 has the most deaths with 57857\n"
   ]
  },
  {
   "cell_type": "markdown",
   "metadata": {},
   "source": [
    "### Question 2:  Change the 'Death Rate' column to a float.  \n",
    "\n",
    "Why would you want to do this?  Add a comment answering this question."
   ]
  },
  {
   "cell_type": "code",
   "execution_count": null,
   "metadata": {},
   "outputs": [],
   "source": [
    "#Death Rate is a continuous number so having it as a float includes the decimal points, making it a more accurate representation."
   ]
  }
 ],
 "metadata": {
  "kernelspec": {
   "display_name": "data-analysis-env",
   "language": "python",
   "name": "python3"
  },
  "language_info": {
   "codemirror_mode": {
    "name": "ipython",
    "version": 3
   },
   "file_extension": ".py",
   "mimetype": "text/x-python",
   "name": "python",
   "nbconvert_exporter": "python",
   "pygments_lexer": "ipython3",
   "version": "3.9.22"
  }
 },
 "nbformat": 4,
 "nbformat_minor": 2
}
