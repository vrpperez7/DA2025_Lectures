{
 "cells": [
  {
   "cell_type": "markdown",
   "metadata": {},
   "source": [
    "# M1L4 Pandas Data Challenge:  EDA \n",
    "\n",
    "## Scenario\n",
    "\n",
    "We'll be working with a real-world dataset from the NYC Open Data portal, focusing on the leading causes of death in New York City. This dataset provides valuable insights into public health trends and disparities. Understanding this data is crucial for community advocacy and policy-making.\n",
    "\n",
    "## Recall:  What is Exploratory Data Analysis (EDA)?\n",
    "\n",
    "EDA is the process of understanding a dataset by summarizing its main characteristics, often with visual methods. In Pandas, this involves:\n",
    "\n",
    "- Loading data: Reading data from files (like CSV) into DataFrames.\n",
    "- Inspecting data: Checking the data's structure, data types, and basic statistics.\n",
    "- Cleaning data: Handling missing values, correcting data types, and removing inconsistencies.\n",
    "- Analyzing data: Calculating summary statistics, identifying patterns, and exploring relationships between variables.\n",
    "\n",
    "For more information about the data (which is highly recommended) here is the [Link to the Data](https://data.cityofnewyork.us/Health/New-York-City-Leading-Causes-of-Death/jb7j-dtam/about_data)\n",
    "\n",
    "**Let's get started!**"
   ]
  },
  {
   "cell_type": "markdown",
   "metadata": {},
   "source": [
    "### Step 1:  Import Pandas use the alias `pd` "
   ]
  },
  {
   "cell_type": "code",
   "execution_count": 46,
   "metadata": {},
   "outputs": [],
   "source": [
    "# Import Pandas \n",
    "import pandas as pd"
   ]
  },
  {
   "cell_type": "markdown",
   "metadata": {},
   "source": [
    "### Step 2: Load the dataset (csv file stored in the data folder) into a Pandas DataFrame. The file is called:  `nyc_causeofdeath.csv`\n"
   ]
  },
  {
   "cell_type": "code",
   "execution_count": 47,
   "metadata": {},
   "outputs": [],
   "source": [
    "df = pd.read_csv(\"nyc_causeofdeath.csv\")\n"
   ]
  },
  {
   "cell_type": "markdown",
   "metadata": {},
   "source": [
    "### Step 3: Display the first 10 rows AND the last 10 rows of the DataFrame.\n"
   ]
  },
  {
   "cell_type": "code",
   "execution_count": 48,
   "metadata": {},
   "outputs": [
    {
     "data": {
      "text/html": [
       "<div>\n",
       "<style scoped>\n",
       "    .dataframe tbody tr th:only-of-type {\n",
       "        vertical-align: middle;\n",
       "    }\n",
       "\n",
       "    .dataframe tbody tr th {\n",
       "        vertical-align: top;\n",
       "    }\n",
       "\n",
       "    .dataframe thead th {\n",
       "        text-align: right;\n",
       "    }\n",
       "</style>\n",
       "<table border=\"1\" class=\"dataframe\">\n",
       "  <thead>\n",
       "    <tr style=\"text-align: right;\">\n",
       "      <th></th>\n",
       "      <th>Year</th>\n",
       "      <th>Leading Cause</th>\n",
       "      <th>Sex</th>\n",
       "      <th>Race Ethnicity</th>\n",
       "      <th>Deaths</th>\n",
       "      <th>Death Rate</th>\n",
       "      <th>Age Adjusted Death Rate</th>\n",
       "    </tr>\n",
       "  </thead>\n",
       "  <tbody>\n",
       "    <tr>\n",
       "      <th>0</th>\n",
       "      <td>2007</td>\n",
       "      <td>Diabetes Mellitus (E10-E14)</td>\n",
       "      <td>M</td>\n",
       "      <td>Other Race/ Ethnicity</td>\n",
       "      <td>11</td>\n",
       "      <td>.</td>\n",
       "      <td>.</td>\n",
       "    </tr>\n",
       "    <tr>\n",
       "      <th>1</th>\n",
       "      <td>2010</td>\n",
       "      <td>Diseases of Heart (I00-I09, I11, I13, I20-I51)</td>\n",
       "      <td>F</td>\n",
       "      <td>Not Stated/Unknown</td>\n",
       "      <td>70</td>\n",
       "      <td>.</td>\n",
       "      <td>.</td>\n",
       "    </tr>\n",
       "    <tr>\n",
       "      <th>2</th>\n",
       "      <td>2007</td>\n",
       "      <td>Cerebrovascular Disease (Stroke: I60-I69)</td>\n",
       "      <td>M</td>\n",
       "      <td>Black Non-Hispanic</td>\n",
       "      <td>213</td>\n",
       "      <td>25</td>\n",
       "      <td>33</td>\n",
       "    </tr>\n",
       "    <tr>\n",
       "      <th>3</th>\n",
       "      <td>2007</td>\n",
       "      <td>Atherosclerosis (I70)</td>\n",
       "      <td>F</td>\n",
       "      <td>Other Race/ Ethnicity</td>\n",
       "      <td>.</td>\n",
       "      <td>.</td>\n",
       "      <td>.</td>\n",
       "    </tr>\n",
       "    <tr>\n",
       "      <th>4</th>\n",
       "      <td>2014</td>\n",
       "      <td>Malignant Neoplasms (Cancer: C00-C97)</td>\n",
       "      <td>F</td>\n",
       "      <td>Black Non-Hispanic</td>\n",
       "      <td>1852</td>\n",
       "      <td>176.5</td>\n",
       "      <td>148.4</td>\n",
       "    </tr>\n",
       "    <tr>\n",
       "      <th>5</th>\n",
       "      <td>2010</td>\n",
       "      <td>Chronic Lower Respiratory Diseases (J40-J47)</td>\n",
       "      <td>F</td>\n",
       "      <td>White Non-Hispanic</td>\n",
       "      <td>501</td>\n",
       "      <td>35</td>\n",
       "      <td>20.7</td>\n",
       "    </tr>\n",
       "    <tr>\n",
       "      <th>6</th>\n",
       "      <td>2007</td>\n",
       "      <td>Intentional Self-Harm (Suicide: X60-X84, Y87.0)</td>\n",
       "      <td>M</td>\n",
       "      <td>Asian and Pacific Islander</td>\n",
       "      <td>36</td>\n",
       "      <td>7.4</td>\n",
       "      <td>7.7</td>\n",
       "    </tr>\n",
       "    <tr>\n",
       "      <th>7</th>\n",
       "      <td>2012</td>\n",
       "      <td>All Other Causes</td>\n",
       "      <td>F</td>\n",
       "      <td>Not Stated/Unknown</td>\n",
       "      <td>53</td>\n",
       "      <td>.</td>\n",
       "      <td>.</td>\n",
       "    </tr>\n",
       "    <tr>\n",
       "      <th>8</th>\n",
       "      <td>2009</td>\n",
       "      <td>Diseases of Heart (I00-I09, I11, I13, I20-I51)</td>\n",
       "      <td>F</td>\n",
       "      <td>Hispanic</td>\n",
       "      <td>1349</td>\n",
       "      <td>112.7</td>\n",
       "      <td>143.8</td>\n",
       "    </tr>\n",
       "    <tr>\n",
       "      <th>9</th>\n",
       "      <td>2010</td>\n",
       "      <td>Septicemia (A40-A41)</td>\n",
       "      <td>F</td>\n",
       "      <td>White Non-Hispanic</td>\n",
       "      <td>107</td>\n",
       "      <td>7.5</td>\n",
       "      <td>4.3</td>\n",
       "    </tr>\n",
       "  </tbody>\n",
       "</table>\n",
       "</div>"
      ],
      "text/plain": [
       "   Year                                    Leading Cause Sex  \\\n",
       "0  2007                      Diabetes Mellitus (E10-E14)   M   \n",
       "1  2010   Diseases of Heart (I00-I09, I11, I13, I20-I51)   F   \n",
       "2  2007        Cerebrovascular Disease (Stroke: I60-I69)   M   \n",
       "3  2007                            Atherosclerosis (I70)   F   \n",
       "4  2014            Malignant Neoplasms (Cancer: C00-C97)   F   \n",
       "5  2010     Chronic Lower Respiratory Diseases (J40-J47)   F   \n",
       "6  2007  Intentional Self-Harm (Suicide: X60-X84, Y87.0)   M   \n",
       "7  2012                                 All Other Causes   F   \n",
       "8  2009   Diseases of Heart (I00-I09, I11, I13, I20-I51)   F   \n",
       "9  2010                             Septicemia (A40-A41)   F   \n",
       "\n",
       "               Race Ethnicity Deaths Death Rate Age Adjusted Death Rate  \n",
       "0       Other Race/ Ethnicity     11          .                       .  \n",
       "1          Not Stated/Unknown     70          .                       .  \n",
       "2          Black Non-Hispanic    213         25                      33  \n",
       "3       Other Race/ Ethnicity      .          .                       .  \n",
       "4          Black Non-Hispanic   1852      176.5                   148.4  \n",
       "5          White Non-Hispanic    501         35                    20.7  \n",
       "6  Asian and Pacific Islander     36        7.4                     7.7  \n",
       "7          Not Stated/Unknown     53          .                       .  \n",
       "8                    Hispanic   1349      112.7                   143.8  \n",
       "9          White Non-Hispanic    107        7.5                     4.3  "
      ]
     },
     "execution_count": 48,
     "metadata": {},
     "output_type": "execute_result"
    }
   ],
   "source": [
    "# Display the first 10 rows\n",
    "df.head(10)"
   ]
  },
  {
   "cell_type": "code",
   "execution_count": 49,
   "metadata": {},
   "outputs": [
    {
     "data": {
      "text/html": [
       "<div>\n",
       "<style scoped>\n",
       "    .dataframe tbody tr th:only-of-type {\n",
       "        vertical-align: middle;\n",
       "    }\n",
       "\n",
       "    .dataframe tbody tr th {\n",
       "        vertical-align: top;\n",
       "    }\n",
       "\n",
       "    .dataframe thead th {\n",
       "        text-align: right;\n",
       "    }\n",
       "</style>\n",
       "<table border=\"1\" class=\"dataframe\">\n",
       "  <thead>\n",
       "    <tr style=\"text-align: right;\">\n",
       "      <th></th>\n",
       "      <th>Year</th>\n",
       "      <th>Leading Cause</th>\n",
       "      <th>Sex</th>\n",
       "      <th>Race Ethnicity</th>\n",
       "      <th>Deaths</th>\n",
       "      <th>Death Rate</th>\n",
       "      <th>Age Adjusted Death Rate</th>\n",
       "    </tr>\n",
       "  </thead>\n",
       "  <tbody>\n",
       "    <tr>\n",
       "      <th>1084</th>\n",
       "      <td>2010</td>\n",
       "      <td>Certain Conditions originating in the Perinata...</td>\n",
       "      <td>F</td>\n",
       "      <td>Asian and Pacific Islander</td>\n",
       "      <td>18</td>\n",
       "      <td>3.2</td>\n",
       "      <td>4</td>\n",
       "    </tr>\n",
       "    <tr>\n",
       "      <th>1085</th>\n",
       "      <td>2009</td>\n",
       "      <td>Essential Hypertension and Renal Diseases (I10...</td>\n",
       "      <td>F</td>\n",
       "      <td>Hispanic</td>\n",
       "      <td>84</td>\n",
       "      <td>7</td>\n",
       "      <td>8.8</td>\n",
       "    </tr>\n",
       "    <tr>\n",
       "      <th>1086</th>\n",
       "      <td>2011</td>\n",
       "      <td>Cerebrovascular Disease (Stroke: I60-I69)</td>\n",
       "      <td>F</td>\n",
       "      <td>White Non-Hispanic</td>\n",
       "      <td>466</td>\n",
       "      <td>32.9</td>\n",
       "      <td>17.6</td>\n",
       "    </tr>\n",
       "    <tr>\n",
       "      <th>1087</th>\n",
       "      <td>2008</td>\n",
       "      <td>Diseases of Heart (I00-I09, I11, I13, I20-I51)</td>\n",
       "      <td>F</td>\n",
       "      <td>Not Stated/Unknown</td>\n",
       "      <td>108</td>\n",
       "      <td>.</td>\n",
       "      <td>.</td>\n",
       "    </tr>\n",
       "    <tr>\n",
       "      <th>1088</th>\n",
       "      <td>2010</td>\n",
       "      <td>Diseases of Heart (I00-I09, I11, I13, I20-I51)</td>\n",
       "      <td>M</td>\n",
       "      <td>Hispanic</td>\n",
       "      <td>1354</td>\n",
       "      <td>118.5</td>\n",
       "      <td>215.5</td>\n",
       "    </tr>\n",
       "    <tr>\n",
       "      <th>1089</th>\n",
       "      <td>2013</td>\n",
       "      <td>All Other Causes</td>\n",
       "      <td>M</td>\n",
       "      <td>White Non-Hispanic</td>\n",
       "      <td>2293</td>\n",
       "      <td>170.3</td>\n",
       "      <td>143.3</td>\n",
       "    </tr>\n",
       "    <tr>\n",
       "      <th>1090</th>\n",
       "      <td>2009</td>\n",
       "      <td>Diseases of Heart (I00-I09, I11, I13, I20-I51)</td>\n",
       "      <td>M</td>\n",
       "      <td>Not Stated/Unknown</td>\n",
       "      <td>94</td>\n",
       "      <td>.</td>\n",
       "      <td>.</td>\n",
       "    </tr>\n",
       "    <tr>\n",
       "      <th>1091</th>\n",
       "      <td>2008</td>\n",
       "      <td>Human Immunodeficiency Virus Disease (HIV: B20...</td>\n",
       "      <td>M</td>\n",
       "      <td>Not Stated/Unknown</td>\n",
       "      <td>9</td>\n",
       "      <td>.</td>\n",
       "      <td>.</td>\n",
       "    </tr>\n",
       "    <tr>\n",
       "      <th>1092</th>\n",
       "      <td>2010</td>\n",
       "      <td>Chronic Lower Respiratory Diseases (J40-J47)</td>\n",
       "      <td>M</td>\n",
       "      <td>Hispanic</td>\n",
       "      <td>149</td>\n",
       "      <td>13</td>\n",
       "      <td>23.9</td>\n",
       "    </tr>\n",
       "    <tr>\n",
       "      <th>1093</th>\n",
       "      <td>2013</td>\n",
       "      <td>Nephritis, Nephrotic Syndrome and Nephrisis (N...</td>\n",
       "      <td>F</td>\n",
       "      <td>Black Non-Hispanic</td>\n",
       "      <td>93</td>\n",
       "      <td>8.9</td>\n",
       "      <td>7.6</td>\n",
       "    </tr>\n",
       "  </tbody>\n",
       "</table>\n",
       "</div>"
      ],
      "text/plain": [
       "      Year                                      Leading Cause Sex  \\\n",
       "1084  2010  Certain Conditions originating in the Perinata...   F   \n",
       "1085  2009  Essential Hypertension and Renal Diseases (I10...   F   \n",
       "1086  2011          Cerebrovascular Disease (Stroke: I60-I69)   F   \n",
       "1087  2008     Diseases of Heart (I00-I09, I11, I13, I20-I51)   F   \n",
       "1088  2010     Diseases of Heart (I00-I09, I11, I13, I20-I51)   M   \n",
       "1089  2013                                   All Other Causes   M   \n",
       "1090  2009     Diseases of Heart (I00-I09, I11, I13, I20-I51)   M   \n",
       "1091  2008  Human Immunodeficiency Virus Disease (HIV: B20...   M   \n",
       "1092  2010       Chronic Lower Respiratory Diseases (J40-J47)   M   \n",
       "1093  2013  Nephritis, Nephrotic Syndrome and Nephrisis (N...   F   \n",
       "\n",
       "                  Race Ethnicity Deaths Death Rate Age Adjusted Death Rate  \n",
       "1084  Asian and Pacific Islander     18        3.2                       4  \n",
       "1085                    Hispanic     84          7                     8.8  \n",
       "1086          White Non-Hispanic    466       32.9                    17.6  \n",
       "1087          Not Stated/Unknown    108          .                       .  \n",
       "1088                    Hispanic   1354      118.5                   215.5  \n",
       "1089          White Non-Hispanic   2293      170.3                   143.3  \n",
       "1090          Not Stated/Unknown     94          .                       .  \n",
       "1091          Not Stated/Unknown      9          .                       .  \n",
       "1092                    Hispanic    149         13                    23.9  \n",
       "1093          Black Non-Hispanic     93        8.9                     7.6  "
      ]
     },
     "execution_count": 49,
     "metadata": {},
     "output_type": "execute_result"
    }
   ],
   "source": [
    "# Display the last 10 rows\n",
    "df.tail(10)"
   ]
  },
  {
   "cell_type": "markdown",
   "metadata": {},
   "source": [
    "### Step 4:  Get a summary of the DataFrame's information by using the `.info()` method.  Type in a comment that is the name of the only numeric column\n"
   ]
  },
  {
   "cell_type": "code",
   "execution_count": 50,
   "metadata": {},
   "outputs": [
    {
     "name": "stdout",
     "output_type": "stream",
     "text": [
      "<class 'pandas.core.frame.DataFrame'>\n",
      "RangeIndex: 1094 entries, 0 to 1093\n",
      "Data columns (total 7 columns):\n",
      " #   Column                   Non-Null Count  Dtype \n",
      "---  ------                   --------------  ----- \n",
      " 0   Year                     1094 non-null   int64 \n",
      " 1   Leading Cause            1094 non-null   object\n",
      " 2   Sex                      1094 non-null   object\n",
      " 3   Race Ethnicity           1094 non-null   object\n",
      " 4   Deaths                   1094 non-null   object\n",
      " 5   Death Rate               1094 non-null   object\n",
      " 6   Age Adjusted Death Rate  1094 non-null   object\n",
      "dtypes: int64(1), object(6)\n",
      "memory usage: 60.0+ KB\n"
     ]
    }
   ],
   "source": [
    "# Only numeric column is Year\n",
    "df.info()"
   ]
  },
  {
   "cell_type": "markdown",
   "metadata": {},
   "source": [
    "### Step 5:  Calculate descriptive statistics for the numerical columns using the `.describe()` method.  Add a comment to list the range of the years in the data set\n"
   ]
  },
  {
   "cell_type": "code",
   "execution_count": 51,
   "metadata": {},
   "outputs": [
    {
     "data": {
      "text/html": [
       "<div>\n",
       "<style scoped>\n",
       "    .dataframe tbody tr th:only-of-type {\n",
       "        vertical-align: middle;\n",
       "    }\n",
       "\n",
       "    .dataframe tbody tr th {\n",
       "        vertical-align: top;\n",
       "    }\n",
       "\n",
       "    .dataframe thead th {\n",
       "        text-align: right;\n",
       "    }\n",
       "</style>\n",
       "<table border=\"1\" class=\"dataframe\">\n",
       "  <thead>\n",
       "    <tr style=\"text-align: right;\">\n",
       "      <th></th>\n",
       "      <th>Year</th>\n",
       "      <th>Leading Cause</th>\n",
       "      <th>Sex</th>\n",
       "      <th>Race Ethnicity</th>\n",
       "      <th>Deaths</th>\n",
       "      <th>Death Rate</th>\n",
       "      <th>Age Adjusted Death Rate</th>\n",
       "    </tr>\n",
       "  </thead>\n",
       "  <tbody>\n",
       "    <tr>\n",
       "      <th>count</th>\n",
       "      <td>1094.000000</td>\n",
       "      <td>1094</td>\n",
       "      <td>1094</td>\n",
       "      <td>1094</td>\n",
       "      <td>1094</td>\n",
       "      <td>1094</td>\n",
       "      <td>1094</td>\n",
       "    </tr>\n",
       "    <tr>\n",
       "      <th>unique</th>\n",
       "      <td>NaN</td>\n",
       "      <td>26</td>\n",
       "      <td>2</td>\n",
       "      <td>6</td>\n",
       "      <td>465</td>\n",
       "      <td>442</td>\n",
       "      <td>427</td>\n",
       "    </tr>\n",
       "    <tr>\n",
       "      <th>top</th>\n",
       "      <td>NaN</td>\n",
       "      <td>Influenza (Flu) and Pneumonia (J09-J18)</td>\n",
       "      <td>F</td>\n",
       "      <td>Not Stated/Unknown</td>\n",
       "      <td>.</td>\n",
       "      <td>.</td>\n",
       "      <td>.</td>\n",
       "    </tr>\n",
       "    <tr>\n",
       "      <th>freq</th>\n",
       "      <td>NaN</td>\n",
       "      <td>96</td>\n",
       "      <td>554</td>\n",
       "      <td>200</td>\n",
       "      <td>138</td>\n",
       "      <td>386</td>\n",
       "      <td>386</td>\n",
       "    </tr>\n",
       "    <tr>\n",
       "      <th>mean</th>\n",
       "      <td>2010.477148</td>\n",
       "      <td>NaN</td>\n",
       "      <td>NaN</td>\n",
       "      <td>NaN</td>\n",
       "      <td>NaN</td>\n",
       "      <td>NaN</td>\n",
       "      <td>NaN</td>\n",
       "    </tr>\n",
       "    <tr>\n",
       "      <th>std</th>\n",
       "      <td>2.293419</td>\n",
       "      <td>NaN</td>\n",
       "      <td>NaN</td>\n",
       "      <td>NaN</td>\n",
       "      <td>NaN</td>\n",
       "      <td>NaN</td>\n",
       "      <td>NaN</td>\n",
       "    </tr>\n",
       "    <tr>\n",
       "      <th>min</th>\n",
       "      <td>2007.000000</td>\n",
       "      <td>NaN</td>\n",
       "      <td>NaN</td>\n",
       "      <td>NaN</td>\n",
       "      <td>NaN</td>\n",
       "      <td>NaN</td>\n",
       "      <td>NaN</td>\n",
       "    </tr>\n",
       "    <tr>\n",
       "      <th>25%</th>\n",
       "      <td>2008.000000</td>\n",
       "      <td>NaN</td>\n",
       "      <td>NaN</td>\n",
       "      <td>NaN</td>\n",
       "      <td>NaN</td>\n",
       "      <td>NaN</td>\n",
       "      <td>NaN</td>\n",
       "    </tr>\n",
       "    <tr>\n",
       "      <th>50%</th>\n",
       "      <td>2010.000000</td>\n",
       "      <td>NaN</td>\n",
       "      <td>NaN</td>\n",
       "      <td>NaN</td>\n",
       "      <td>NaN</td>\n",
       "      <td>NaN</td>\n",
       "      <td>NaN</td>\n",
       "    </tr>\n",
       "    <tr>\n",
       "      <th>75%</th>\n",
       "      <td>2012.000000</td>\n",
       "      <td>NaN</td>\n",
       "      <td>NaN</td>\n",
       "      <td>NaN</td>\n",
       "      <td>NaN</td>\n",
       "      <td>NaN</td>\n",
       "      <td>NaN</td>\n",
       "    </tr>\n",
       "    <tr>\n",
       "      <th>max</th>\n",
       "      <td>2014.000000</td>\n",
       "      <td>NaN</td>\n",
       "      <td>NaN</td>\n",
       "      <td>NaN</td>\n",
       "      <td>NaN</td>\n",
       "      <td>NaN</td>\n",
       "      <td>NaN</td>\n",
       "    </tr>\n",
       "  </tbody>\n",
       "</table>\n",
       "</div>"
      ],
      "text/plain": [
       "               Year                            Leading Cause   Sex  \\\n",
       "count   1094.000000                                     1094  1094   \n",
       "unique          NaN                                       26     2   \n",
       "top             NaN  Influenza (Flu) and Pneumonia (J09-J18)     F   \n",
       "freq            NaN                                       96   554   \n",
       "mean    2010.477148                                      NaN   NaN   \n",
       "std        2.293419                                      NaN   NaN   \n",
       "min     2007.000000                                      NaN   NaN   \n",
       "25%     2008.000000                                      NaN   NaN   \n",
       "50%     2010.000000                                      NaN   NaN   \n",
       "75%     2012.000000                                      NaN   NaN   \n",
       "max     2014.000000                                      NaN   NaN   \n",
       "\n",
       "            Race Ethnicity Deaths Death Rate Age Adjusted Death Rate  \n",
       "count                 1094   1094       1094                    1094  \n",
       "unique                   6    465        442                     427  \n",
       "top     Not Stated/Unknown      .          .                       .  \n",
       "freq                   200    138        386                     386  \n",
       "mean                   NaN    NaN        NaN                     NaN  \n",
       "std                    NaN    NaN        NaN                     NaN  \n",
       "min                    NaN    NaN        NaN                     NaN  \n",
       "25%                    NaN    NaN        NaN                     NaN  \n",
       "50%                    NaN    NaN        NaN                     NaN  \n",
       "75%                    NaN    NaN        NaN                     NaN  \n",
       "max                    NaN    NaN        NaN                     NaN  "
      ]
     },
     "execution_count": 51,
     "metadata": {},
     "output_type": "execute_result"
    }
   ],
   "source": [
    "# Years are 2007-2014\n",
    "#using parameter include='' allows you to specify if all, objects, or numeric\n",
    "df.describe(include='all')"
   ]
  },
  {
   "cell_type": "markdown",
   "metadata": {},
   "source": [
    "### Step 6:  Run the cell below to see the method `value_counts()` in action.  Then use the same method to check the unique values in the 'Race Ethnicity' column.  Is there one Ethnicity that shows up in the data more than another -- Type the answer as a comment?  \n"
   ]
  },
  {
   "cell_type": "code",
   "execution_count": 35,
   "metadata": {},
   "outputs": [
    {
     "name": "stdout",
     "output_type": "stream",
     "text": [
      "Sex\n",
      "F    554\n",
      "M    540\n",
      "Name: count, dtype: int64\n",
      "\n"
     ]
    }
   ],
   "source": [
    "# Run this cell without changes \n",
    "print(df['Sex'].value_counts())\n",
    "print()\n",
    "#most frequent ethnicity that's been identified is Black Non-Hispanic, but the leading two categories 'Other Race/ Ethnicity' and 'Not Stated/Unknown'\n"
   ]
  },
  {
   "cell_type": "code",
   "execution_count": 52,
   "metadata": {},
   "outputs": [
    {
     "name": "stdout",
     "output_type": "stream",
     "text": [
      "Race Ethnicity\n",
      "Not Stated/Unknown            200\n",
      "Other Race/ Ethnicity         186\n",
      "Black Non-Hispanic            178\n",
      "Asian and Pacific Islander    177\n",
      "Hispanic                      177\n",
      "White Non-Hispanic            176\n",
      "Name: count, dtype: int64\n"
     ]
    }
   ],
   "source": [
    "# Use value_counts() on the Race Ethnicity column\n",
    "# The most common Race that's been identified is Black Non-Hispanic, but the leading two categories are 'Other Race/ Ethnicity' and 'Not Stated/Unknown'\n",
    "print(df['Race Ethnicity'].value_counts())"
   ]
  },
  {
   "cell_type": "markdown",
   "metadata": {},
   "source": [
    "### Step 7:  Convert the 'Death Rate` column to numeric by running the cell below.  Type a resonse on what you think the errors='coerce' argument does AND list the method you would use to change a numeric column to text"
   ]
  },
  {
   "cell_type": "code",
   "execution_count": 60,
   "metadata": {},
   "outputs": [],
   "source": [
    "#Run this cell without changes \n",
    "\n",
    "df['Death Rate'] = pd.to_numeric(df['Death Rate'], errors='coerce')\n"
   ]
  },
  {
   "cell_type": "markdown",
   "metadata": {},
   "source": [
    "What is the method you would use to change a numeric column to text?  \n",
    "Double-click this cell to type in an answer below:\n",
    "\n",
    "pd.to_string(df['Death Rate'], errors = 'coerce')"
   ]
  },
  {
   "cell_type": "markdown",
   "metadata": {},
   "source": [
    "### Step 8:  Use `.describe()` again now that Death Rate is a number.  Type a response on a main takeaways about the death rates in NYC based on this data.  List at least one other question you could answer about death rates based soley on this dataset.  "
   ]
  },
  {
   "cell_type": "code",
   "execution_count": 62,
   "metadata": {},
   "outputs": [
    {
     "data": {
      "text/plain": [
       "count    708.000000\n",
       "mean      53.438842\n",
       "std       76.524700\n",
       "min        2.400000\n",
       "25%       11.600000\n",
       "50%       18.350000\n",
       "75%       64.625000\n",
       "max      491.400000\n",
       "Name: Death Rate, dtype: float64"
      ]
     },
     "execution_count": 62,
     "metadata": {},
     "output_type": "execute_result"
    }
   ],
   "source": [
    "df['Death Rate'].describe()"
   ]
  },
  {
   "cell_type": "markdown",
   "metadata": {},
   "source": [
    "What is one other question you could answer about death rates based soley on the data\n",
    "Double-click this cell to type in an answer below:\n",
    "\n",
    "My main takeaway is from 2007-2014 the disease that had the highest death rate was disease of heart in 2007.\n",
    "I would ask \"What happened to reduce the amounts of deaths for diseases of heart after 2007?\"\n"
   ]
  },
  {
   "cell_type": "markdown",
   "metadata": {},
   "source": [
    "## Above and Beyond (AAB) -- OPTIONAL"
   ]
  },
  {
   "cell_type": "markdown",
   "metadata": {},
   "source": [
    "### Question 1:  View the documentation for the pandas `group_by()` method and get an average of the Death Rate column by Sex\n",
    "\n",
    "[Group By Documentation](https://pandas.pydata.org/docs/reference/api/pandas.DataFrame.groupby.html)"
   ]
  },
  {
   "cell_type": "code",
   "execution_count": null,
   "metadata": {},
   "outputs": [
    {
     "name": "stdout",
     "output_type": "stream",
     "text": [
      "count    708.000000\n",
      "mean      53.438842\n",
      "std       76.524700\n",
      "min        2.400000\n",
      "25%       11.600000\n",
      "50%       18.350000\n",
      "75%       64.625000\n",
      "max      491.400000\n",
      "Name: Death Rate, dtype: float64\n"
     ]
    }
   ],
   "source": [
    "average_death_rates = df['Death Rate'].groupby(by='Sex',group_keys=True).mean()\n",
    "print(average_death_rates)"
   ]
  },
  {
   "cell_type": "markdown",
   "metadata": {},
   "source": [
    "### Question 2:  Use `group_by()` along with the `size()` method to count the number of Sex and Race combinations that exist in the data"
   ]
  },
  {
   "cell_type": "code",
   "execution_count": null,
   "metadata": {},
   "outputs": [],
   "source": [
    "sex_race_counts = None\n",
    "print(sex_race_counts)"
   ]
  }
 ],
 "metadata": {
  "kernelspec": {
   "display_name": "data-analysis-env",
   "language": "python",
   "name": "python3"
  },
  "language_info": {
   "codemirror_mode": {
    "name": "ipython",
    "version": 3
   },
   "file_extension": ".py",
   "mimetype": "text/x-python",
   "name": "python",
   "nbconvert_exporter": "python",
   "pygments_lexer": "ipython3",
   "version": "3.9.22"
  }
 },
 "nbformat": 4,
 "nbformat_minor": 2
}
